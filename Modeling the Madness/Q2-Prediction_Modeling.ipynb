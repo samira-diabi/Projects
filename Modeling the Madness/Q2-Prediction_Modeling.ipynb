{
 "cells": [
  {
   "attachments": {},
   "cell_type": "markdown",
   "metadata": {},
   "source": [
    "# Final Project - Predicting Probabilties of NCAA Men's Basketball Tournament Outcomes \n",
    "## Group 2 - 90-803 Machine Learning Foundations with Python (Spring 2023)\n",
    "### Authors: Samira Diabi, Amelia Janaskie, Genna Moellering\n",
    "\n",
    "**Question:** Have tournament outcomes become harder to predict in the Name Image & Likeness (NIL) Era where NCAA athletes can be paid by universities?  We compare probability gaps in game outcomes from previous tournaments to see if prediction windows are becoming tighter and, consequently, game outcomes more uncertain.  (Prediction with a Target Variable of win probability for a given team - TeamA)\n",
    "\n",
    "\n",
    "**Models Used:**\n",
    "* Logistic Regression\n",
    "* Random Forrest\n",
    "* Naive Bayes\n",
    "* Support Vector Machine Classifier"
   ]
  },
  {
   "cell_type": "code",
   "execution_count": 80,
   "metadata": {},
   "outputs": [],
   "source": [
    "import numpy as np\n",
    "import pandas as pd\n",
    "from sklearn.preprocessing import LabelEncoder\n",
    "from sklearn.preprocessing import PowerTransformer\n",
    "from sklearn.preprocessing import StandardScaler\n",
    "\n",
    "# Modeling Libraries\n",
    "from sklearn.model_selection import train_test_split, cross_val_score\n",
    "from sklearn import metrics\n",
    "from sklearn.model_selection import cross_val_score\n",
    "from sklearn.naive_bayes import GaussianNB\n",
    "from sklearn.metrics import classification_report\n",
    "from sklearn.metrics import accuracy_score\n",
    "from sklearn.linear_model import LogisticRegression\n",
    "from sklearn.metrics import confusion_matrix, ConfusionMatrixDisplay\n",
    "from sklearn.model_selection import GridSearchCV, RandomizedSearchCV, StratifiedKFold\n",
    "from sklearn.ensemble import RandomForestClassifier\n",
    "from sklearn.svm import SVC\n",
    "\n",
    "# Visualization Libraries\n",
    "import seaborn as sns\n",
    "from matplotlib import pyplot as plt\n",
    "import plotly.express as px\n",
    "from pandas.plotting import parallel_coordinates\n"
   ]
  },
  {
   "cell_type": "code",
   "execution_count": 2,
   "metadata": {},
   "outputs": [],
   "source": [
    "seed = 12"
   ]
  },
  {
   "attachments": {},
   "cell_type": "markdown",
   "metadata": {},
   "source": [
    "### Methodology\n",
    "The aim of this question is to see what our classification models, which we refined in Question 1, can tell us about whether it's getting harder to predict the outcome of tournament games. To analyze this question, we will look to see whether the predictions are getting tighter. An example of a 'tighter' prediction would be a .55 favorability rating that a given team (in this case TeamA) will win, which is barely better than a coin flip. A more conventional probability rating for a betting-line favorite would be a rating of .7. The 'tightness' of the probability prediction will give us some measure of whether or not game outcomes are getting more difficult to predict. \n",
    "\n",
    "Our methodology for approaching this question is to use the classification models from question 1 to generate a probability predicting whether TeamA will win for all the NCAA tournament games in a given season. We will take the absolute distance of that value from .5 (which represents a 50/50 chance) and then sum those values across the games played in the tournmanet. We will conduct this process for each of our four models and each of the five years of interest: 2018, 2019, 2021, 2022, and 2023. (There was no NCAA Men's Basketball Tournament held in 2020 due to the COVID-19 pandemic). \n",
    "\n",
    "For our first step, we read in the original `final_df`"
   ]
  },
  {
   "cell_type": "code",
   "execution_count": 3,
   "metadata": {},
   "outputs": [
    {
     "data": {
      "text/html": [
       "<div>\n",
       "<style scoped>\n",
       "    .dataframe tbody tr th:only-of-type {\n",
       "        vertical-align: middle;\n",
       "    }\n",
       "\n",
       "    .dataframe tbody tr th {\n",
       "        vertical-align: top;\n",
       "    }\n",
       "\n",
       "    .dataframe thead th {\n",
       "        text-align: right;\n",
       "    }\n",
       "</style>\n",
       "<table border=\"1\" class=\"dataframe\">\n",
       "  <thead>\n",
       "    <tr style=\"text-align: right;\">\n",
       "      <th></th>\n",
       "      <th>Season</th>\n",
       "      <th>DayNum</th>\n",
       "      <th>TeamA</th>\n",
       "      <th>TeamB</th>\n",
       "      <th>Win</th>\n",
       "      <th>A_PPG</th>\n",
       "      <th>A_FG%</th>\n",
       "      <th>A_FG3%</th>\n",
       "      <th>A_FT%</th>\n",
       "      <th>A_OR_per_game</th>\n",
       "      <th>...</th>\n",
       "      <th>B_Blk_per_game</th>\n",
       "      <th>B_PF_per_game</th>\n",
       "      <th>B_Road_Wins</th>\n",
       "      <th>B_ConfAbbrev</th>\n",
       "      <th>B_TeamName</th>\n",
       "      <th>B_TotalD1Seasons</th>\n",
       "      <th>B_Seed</th>\n",
       "      <th>B_CoachName</th>\n",
       "      <th>B_Qualified</th>\n",
       "      <th>TourneyGame</th>\n",
       "    </tr>\n",
       "  </thead>\n",
       "  <tbody>\n",
       "    <tr>\n",
       "      <th>0</th>\n",
       "      <td>2003</td>\n",
       "      <td>10</td>\n",
       "      <td>1328</td>\n",
       "      <td>1104</td>\n",
       "      <td>0</td>\n",
       "      <td>71</td>\n",
       "      <td>45</td>\n",
       "      <td>39</td>\n",
       "      <td>71</td>\n",
       "      <td>12</td>\n",
       "      <td>...</td>\n",
       "      <td>4</td>\n",
       "      <td>18</td>\n",
       "      <td>4</td>\n",
       "      <td>28</td>\n",
       "      <td>Alabama</td>\n",
       "      <td>39</td>\n",
       "      <td>54</td>\n",
       "      <td>578</td>\n",
       "      <td>1</td>\n",
       "      <td>0</td>\n",
       "    </tr>\n",
       "    <tr>\n",
       "      <th>1</th>\n",
       "      <td>2003</td>\n",
       "      <td>10</td>\n",
       "      <td>1393</td>\n",
       "      <td>1272</td>\n",
       "      <td>0</td>\n",
       "      <td>80</td>\n",
       "      <td>47</td>\n",
       "      <td>33</td>\n",
       "      <td>69</td>\n",
       "      <td>14</td>\n",
       "      <td>...</td>\n",
       "      <td>5</td>\n",
       "      <td>19</td>\n",
       "      <td>9</td>\n",
       "      <td>12</td>\n",
       "      <td>Memphis</td>\n",
       "      <td>39</td>\n",
       "      <td>72</td>\n",
       "      <td>462</td>\n",
       "      <td>1</td>\n",
       "      <td>0</td>\n",
       "    </tr>\n",
       "    <tr>\n",
       "      <th>2</th>\n",
       "      <td>2003</td>\n",
       "      <td>11</td>\n",
       "      <td>1437</td>\n",
       "      <td>1266</td>\n",
       "      <td>0</td>\n",
       "      <td>72</td>\n",
       "      <td>42</td>\n",
       "      <td>35</td>\n",
       "      <td>71</td>\n",
       "      <td>15</td>\n",
       "      <td>...</td>\n",
       "      <td>4</td>\n",
       "      <td>19</td>\n",
       "      <td>8</td>\n",
       "      <td>12</td>\n",
       "      <td>Marquette</td>\n",
       "      <td>39</td>\n",
       "      <td>47</td>\n",
       "      <td>901</td>\n",
       "      <td>1</td>\n",
       "      <td>0</td>\n",
       "    </tr>\n",
       "    <tr>\n",
       "      <th>3</th>\n",
       "      <td>2003</td>\n",
       "      <td>11</td>\n",
       "      <td>1457</td>\n",
       "      <td>1296</td>\n",
       "      <td>0</td>\n",
       "      <td>69</td>\n",
       "      <td>43</td>\n",
       "      <td>35</td>\n",
       "      <td>64</td>\n",
       "      <td>12</td>\n",
       "      <td>...</td>\n",
       "      <td>4</td>\n",
       "      <td>20</td>\n",
       "      <td>10</td>\n",
       "      <td>18</td>\n",
       "      <td>N Illinois</td>\n",
       "      <td>39</td>\n",
       "      <td>0</td>\n",
       "      <td>765</td>\n",
       "      <td>0</td>\n",
       "      <td>0</td>\n",
       "    </tr>\n",
       "    <tr>\n",
       "      <th>4</th>\n",
       "      <td>2003</td>\n",
       "      <td>11</td>\n",
       "      <td>1458</td>\n",
       "      <td>1186</td>\n",
       "      <td>1</td>\n",
       "      <td>71</td>\n",
       "      <td>46</td>\n",
       "      <td>36</td>\n",
       "      <td>74</td>\n",
       "      <td>10</td>\n",
       "      <td>...</td>\n",
       "      <td>3</td>\n",
       "      <td>21</td>\n",
       "      <td>9</td>\n",
       "      <td>6</td>\n",
       "      <td>E Washington</td>\n",
       "      <td>39</td>\n",
       "      <td>0</td>\n",
       "      <td>735</td>\n",
       "      <td>0</td>\n",
       "      <td>0</td>\n",
       "    </tr>\n",
       "  </tbody>\n",
       "</table>\n",
       "<p>5 rows × 42 columns</p>\n",
       "</div>"
      ],
      "text/plain": [
       "   Season  DayNum  TeamA  TeamB  Win  A_PPG  A_FG%  A_FG3%  A_FT%  \\\n",
       "0    2003      10   1328   1104    0     71     45      39     71   \n",
       "1    2003      10   1393   1272    0     80     47      33     69   \n",
       "2    2003      11   1437   1266    0     72     42      35     71   \n",
       "3    2003      11   1457   1296    0     69     43      35     64   \n",
       "4    2003      11   1458   1186    1     71     46      36     74   \n",
       "\n",
       "   A_OR_per_game  ...  B_Blk_per_game  B_PF_per_game  B_Road_Wins  \\\n",
       "0             12  ...               4             18            4   \n",
       "1             14  ...               5             19            9   \n",
       "2             15  ...               4             19            8   \n",
       "3             12  ...               4             20           10   \n",
       "4             10  ...               3             21            9   \n",
       "\n",
       "   B_ConfAbbrev    B_TeamName  B_TotalD1Seasons  B_Seed  B_CoachName  \\\n",
       "0            28       Alabama                39      54          578   \n",
       "1            12       Memphis                39      72          462   \n",
       "2            12     Marquette                39      47          901   \n",
       "3            18    N Illinois                39       0          765   \n",
       "4             6  E Washington                39       0          735   \n",
       "\n",
       "  B_Qualified  TourneyGame  \n",
       "0           1            0  \n",
       "1           1            0  \n",
       "2           1            0  \n",
       "3           0            0  \n",
       "4           0            0  \n",
       "\n",
       "[5 rows x 42 columns]"
      ]
     },
     "execution_count": 3,
     "metadata": {},
     "output_type": "execute_result"
    }
   ],
   "source": [
    "df = pd.read_csv('data/final_df.csv')\n",
    "df.head()"
   ]
  },
  {
   "attachments": {},
   "cell_type": "markdown",
   "metadata": {},
   "source": [
    "### Breaking Out the Datasets"
   ]
  },
  {
   "attachments": {},
   "cell_type": "markdown",
   "metadata": {},
   "source": [
    "This question pertains primarily to tournament data, as we are trying to compare our models' tournament outcomes predictions in specific years. We created dataframes for just the tournamnet game in each year, and in those dataframes, dropped the ones that weren't offering additional information. Everyone playing in the tournament qualified, which is why I'm dropping these columns."
   ]
  },
  {
   "cell_type": "code",
   "execution_count": 4,
   "metadata": {},
   "outputs": [
    {
     "data": {
      "text/html": [
       "<div>\n",
       "<style scoped>\n",
       "    .dataframe tbody tr th:only-of-type {\n",
       "        vertical-align: middle;\n",
       "    }\n",
       "\n",
       "    .dataframe tbody tr th {\n",
       "        vertical-align: top;\n",
       "    }\n",
       "\n",
       "    .dataframe thead th {\n",
       "        text-align: right;\n",
       "    }\n",
       "</style>\n",
       "<table border=\"1\" class=\"dataframe\">\n",
       "  <thead>\n",
       "    <tr style=\"text-align: right;\">\n",
       "      <th></th>\n",
       "      <th>Season</th>\n",
       "      <th>Win</th>\n",
       "      <th>A_PPG</th>\n",
       "      <th>A_FG%</th>\n",
       "      <th>A_FG3%</th>\n",
       "      <th>A_FT%</th>\n",
       "      <th>A_OR_per_game</th>\n",
       "      <th>A_DR_per_game</th>\n",
       "      <th>A_Ast_per_game</th>\n",
       "      <th>A_TO_per_game</th>\n",
       "      <th>...</th>\n",
       "      <th>B_Ast_per_game</th>\n",
       "      <th>B_TO_per_game</th>\n",
       "      <th>B_Stl_per_game</th>\n",
       "      <th>B_Blk_per_game</th>\n",
       "      <th>B_PF_per_game</th>\n",
       "      <th>B_Road_Wins</th>\n",
       "      <th>B_ConfAbbrev</th>\n",
       "      <th>B_TotalD1Seasons</th>\n",
       "      <th>B_Seed</th>\n",
       "      <th>B_CoachName</th>\n",
       "    </tr>\n",
       "  </thead>\n",
       "  <tbody>\n",
       "    <tr>\n",
       "      <th>4616</th>\n",
       "      <td>2003</td>\n",
       "      <td>1</td>\n",
       "      <td>71</td>\n",
       "      <td>43</td>\n",
       "      <td>36</td>\n",
       "      <td>76</td>\n",
       "      <td>12</td>\n",
       "      <td>23</td>\n",
       "      <td>13</td>\n",
       "      <td>16</td>\n",
       "      <td>...</td>\n",
       "      <td>14</td>\n",
       "      <td>15</td>\n",
       "      <td>6</td>\n",
       "      <td>2</td>\n",
       "      <td>18</td>\n",
       "      <td>7</td>\n",
       "      <td>33</td>\n",
       "      <td>39</td>\n",
       "      <td>43</td>\n",
       "      <td>795</td>\n",
       "    </tr>\n",
       "    <tr>\n",
       "      <th>4617</th>\n",
       "      <td>2003</td>\n",
       "      <td>0</td>\n",
       "      <td>68</td>\n",
       "      <td>44</td>\n",
       "      <td>34</td>\n",
       "      <td>66</td>\n",
       "      <td>13</td>\n",
       "      <td>26</td>\n",
       "      <td>14</td>\n",
       "      <td>14</td>\n",
       "      <td>...</td>\n",
       "      <td>18</td>\n",
       "      <td>15</td>\n",
       "      <td>8</td>\n",
       "      <td>4</td>\n",
       "      <td>18</td>\n",
       "      <td>11</td>\n",
       "      <td>25</td>\n",
       "      <td>39</td>\n",
       "      <td>66</td>\n",
       "      <td>571</td>\n",
       "    </tr>\n",
       "    <tr>\n",
       "      <th>4618</th>\n",
       "      <td>2003</td>\n",
       "      <td>0</td>\n",
       "      <td>75</td>\n",
       "      <td>44</td>\n",
       "      <td>35</td>\n",
       "      <td>65</td>\n",
       "      <td>14</td>\n",
       "      <td>26</td>\n",
       "      <td>17</td>\n",
       "      <td>14</td>\n",
       "      <td>...</td>\n",
       "      <td>16</td>\n",
       "      <td>14</td>\n",
       "      <td>5</td>\n",
       "      <td>4</td>\n",
       "      <td>19</td>\n",
       "      <td>6</td>\n",
       "      <td>25</td>\n",
       "      <td>39</td>\n",
       "      <td>75</td>\n",
       "      <td>762</td>\n",
       "    </tr>\n",
       "    <tr>\n",
       "      <th>4619</th>\n",
       "      <td>2003</td>\n",
       "      <td>0</td>\n",
       "      <td>79</td>\n",
       "      <td>50</td>\n",
       "      <td>39</td>\n",
       "      <td>69</td>\n",
       "      <td>11</td>\n",
       "      <td>23</td>\n",
       "      <td>17</td>\n",
       "      <td>13</td>\n",
       "      <td>...</td>\n",
       "      <td>16</td>\n",
       "      <td>18</td>\n",
       "      <td>7</td>\n",
       "      <td>4</td>\n",
       "      <td>21</td>\n",
       "      <td>12</td>\n",
       "      <td>18</td>\n",
       "      <td>39</td>\n",
       "      <td>76</td>\n",
       "      <td>384</td>\n",
       "    </tr>\n",
       "    <tr>\n",
       "      <th>4620</th>\n",
       "      <td>2003</td>\n",
       "      <td>0</td>\n",
       "      <td>72</td>\n",
       "      <td>46</td>\n",
       "      <td>35</td>\n",
       "      <td>77</td>\n",
       "      <td>10</td>\n",
       "      <td>22</td>\n",
       "      <td>15</td>\n",
       "      <td>14</td>\n",
       "      <td>...</td>\n",
       "      <td>16</td>\n",
       "      <td>14</td>\n",
       "      <td>7</td>\n",
       "      <td>3</td>\n",
       "      <td>17</td>\n",
       "      <td>8</td>\n",
       "      <td>25</td>\n",
       "      <td>39</td>\n",
       "      <td>8</td>\n",
       "      <td>40</td>\n",
       "    </tr>\n",
       "  </tbody>\n",
       "</table>\n",
       "<p>5 rows × 34 columns</p>\n",
       "</div>"
      ],
      "text/plain": [
       "      Season  Win  A_PPG  A_FG%  A_FG3%  A_FT%  A_OR_per_game  A_DR_per_game  \\\n",
       "4616    2003    1     71     43      36     76             12             23   \n",
       "4617    2003    0     68     44      34     66             13             26   \n",
       "4618    2003    0     75     44      35     65             14             26   \n",
       "4619    2003    0     79     50      39     69             11             23   \n",
       "4620    2003    0     72     46      35     77             10             22   \n",
       "\n",
       "      A_Ast_per_game  A_TO_per_game  ...  B_Ast_per_game  B_TO_per_game  \\\n",
       "4616              13             16  ...              14             15   \n",
       "4617              14             14  ...              18             15   \n",
       "4618              17             14  ...              16             14   \n",
       "4619              17             13  ...              16             18   \n",
       "4620              15             14  ...              16             14   \n",
       "\n",
       "      B_Stl_per_game  B_Blk_per_game  B_PF_per_game  B_Road_Wins  \\\n",
       "4616               6               2             18            7   \n",
       "4617               8               4             18           11   \n",
       "4618               5               4             19            6   \n",
       "4619               7               4             21           12   \n",
       "4620               7               3             17            8   \n",
       "\n",
       "      B_ConfAbbrev  B_TotalD1Seasons  B_Seed  B_CoachName  \n",
       "4616            33                39      43          795  \n",
       "4617            25                39      66          571  \n",
       "4618            25                39      75          762  \n",
       "4619            18                39      76          384  \n",
       "4620            25                39       8           40  \n",
       "\n",
       "[5 rows x 34 columns]"
      ]
     },
     "execution_count": 4,
     "metadata": {},
     "output_type": "execute_result"
    }
   ],
   "source": [
    "# tourney will only reflect the tournament games\n",
    "tourney = df[df['TourneyGame']==1]\n",
    "\n",
    "# only the tournament games for the specific year\n",
    "tourney_2018 = tourney[tourney['Season'] == 2018]\n",
    "tourney_2019 = tourney[tourney['Season'] == 2019]\n",
    "tourney_2021 = tourney[tourney['Season'] == 2021]\n",
    "tourney_2022 = tourney[tourney['Season'] == 2022]\n",
    "tourney_2023 = tourney[tourney['Season'] == 2023]\n",
    "\n",
    "# dropping irrelevant or string-type columns\n",
    "tourney_df = tourney.drop(['A_Qualified', 'B_Qualified', 'TourneyGame', 'A_TeamName', 'B_TeamName', 'DayNum', 'TeamA', 'TeamB'], axis=1)\n",
    "\n",
    "# print sample as a check on accuracy\n",
    "tourney_df.head()"
   ]
  },
  {
   "attachments": {},
   "cell_type": "markdown",
   "metadata": {},
   "source": [
    "We will need `df` in its original form to generate the X_train, y_train, X_test, y_test datasets, but we don't want to include the qualified or teamname columns as they are either irrelevant or string data and we don't want the models to take them as inputs. "
   ]
  },
  {
   "cell_type": "code",
   "execution_count": 5,
   "metadata": {},
   "outputs": [],
   "source": [
    "df = df.drop(['A_Qualified', 'B_Qualified', 'A_TeamName', 'B_TeamName'], axis=1)"
   ]
  },
  {
   "attachments": {},
   "cell_type": "markdown",
   "metadata": {},
   "source": [
    "Our seasons of interest are 2018, 2019, 2021, 2022, and 2023, so I generated seperate datasets for these seasons. A reminder that there was no tournament in 2020 due to the COVID-19 pandemic, so we are excluding that year because there is no data available."
   ]
  },
  {
   "cell_type": "code",
   "execution_count": 6,
   "metadata": {},
   "outputs": [],
   "source": [
    "# predict 2018 outcomes\n",
    "results_2018 = tourney_df[tourney_df['Season'] == 2018]\n",
    "results_2018 = results_2018.drop(['Season'], axis=1)\n",
    "\n",
    "# predict 2019 outcomes\n",
    "results_2019 = tourney_df[tourney_df['Season'] == 2019]\n",
    "results_2019 = results_2019.drop(['Season'], axis=1)\n",
    "\n",
    "# predict 2021 outcomes\n",
    "results_2021 = tourney_df[tourney_df['Season'] == 2021]\n",
    "results_2021 = results_2021.drop(['Season'], axis=1)\n",
    "\n",
    "# predict 2022 outcomes\n",
    "results_2022 = tourney_df[tourney_df['Season'] == 2022]\n",
    "results_2022 = results_2022.drop(['Season'], axis=1)\n",
    "\n"
   ]
  },
  {
   "attachments": {},
   "cell_type": "markdown",
   "metadata": {},
   "source": [
    "We had to use the dataset we generated to get data from the 2023 tournament, so we read that in that here."
   ]
  },
  {
   "cell_type": "code",
   "execution_count": 7,
   "metadata": {},
   "outputs": [],
   "source": [
    "# reading in the 2023 tournament results and the annual info from the data cleaning files to append \n",
    "tourney_2023_results = pd.read_csv('data/2023_Tourney_Outcomes.csv')\n",
    "annual_info_A = pd.read_csv('data/annual_info_A.csv')\n",
    "annual_info_B = pd.read_csv('data/annual_info_B.csv')\n",
    "\n",
    "tourney_2023_admin = tourney_2023_results[['Season','TeamA','TeamB','Win','A_TeamName','B_TeamName']]\n",
    "\n",
    "tourney_2023_short = tourney_2023_results[['Season','TeamA','TeamB','Win']]\n"
   ]
  },
  {
   "attachments": {},
   "cell_type": "markdown",
   "metadata": {},
   "source": [
    "The `tournament_2023 reults` dataframe did not get the benefit of our data cleaning process, so here I am merging it with the administrative data we generated in the **Data_Cleaning** notbeook so that it looks uniform to the rest of our data. "
   ]
  },
  {
   "cell_type": "code",
   "execution_count": 8,
   "metadata": {},
   "outputs": [
    {
     "data": {
      "text/html": [
       "<div>\n",
       "<style scoped>\n",
       "    .dataframe tbody tr th:only-of-type {\n",
       "        vertical-align: middle;\n",
       "    }\n",
       "\n",
       "    .dataframe tbody tr th {\n",
       "        vertical-align: top;\n",
       "    }\n",
       "\n",
       "    .dataframe thead th {\n",
       "        text-align: right;\n",
       "    }\n",
       "</style>\n",
       "<table border=\"1\" class=\"dataframe\">\n",
       "  <thead>\n",
       "    <tr style=\"text-align: right;\">\n",
       "      <th></th>\n",
       "      <th>Win</th>\n",
       "      <th>A_PPG</th>\n",
       "      <th>A_FG%</th>\n",
       "      <th>A_FG3%</th>\n",
       "      <th>A_FT%</th>\n",
       "      <th>A_OR_per_game</th>\n",
       "      <th>A_DR_per_game</th>\n",
       "      <th>A_Ast_per_game</th>\n",
       "      <th>A_TO_per_game</th>\n",
       "      <th>A_Stl_per_game</th>\n",
       "      <th>...</th>\n",
       "      <th>B_Ast_per_game</th>\n",
       "      <th>B_TO_per_game</th>\n",
       "      <th>B_Stl_per_game</th>\n",
       "      <th>B_Blk_per_game</th>\n",
       "      <th>B_PF_per_game</th>\n",
       "      <th>B_Road_Wins</th>\n",
       "      <th>B_ConfAbbrev</th>\n",
       "      <th>B_TotalD1Seasons</th>\n",
       "      <th>B_Seed</th>\n",
       "      <th>B_CoachName</th>\n",
       "    </tr>\n",
       "  </thead>\n",
       "  <tbody>\n",
       "    <tr>\n",
       "      <th>0</th>\n",
       "      <td>1</td>\n",
       "      <td>78</td>\n",
       "      <td>45</td>\n",
       "      <td>37</td>\n",
       "      <td>80</td>\n",
       "      <td>10</td>\n",
       "      <td>23</td>\n",
       "      <td>15</td>\n",
       "      <td>12</td>\n",
       "      <td>8</td>\n",
       "      <td>...</td>\n",
       "      <td>13</td>\n",
       "      <td>12</td>\n",
       "      <td>7</td>\n",
       "      <td>3</td>\n",
       "      <td>21</td>\n",
       "      <td>10</td>\n",
       "      <td>12</td>\n",
       "      <td>32</td>\n",
       "      <td>16</td>\n",
       "      <td>3</td>\n",
       "    </tr>\n",
       "    <tr>\n",
       "      <th>1</th>\n",
       "      <td>0</td>\n",
       "      <td>78</td>\n",
       "      <td>45</td>\n",
       "      <td>37</td>\n",
       "      <td>80</td>\n",
       "      <td>10</td>\n",
       "      <td>23</td>\n",
       "      <td>15</td>\n",
       "      <td>12</td>\n",
       "      <td>8</td>\n",
       "      <td>...</td>\n",
       "      <td>15</td>\n",
       "      <td>14</td>\n",
       "      <td>6</td>\n",
       "      <td>5</td>\n",
       "      <td>19</td>\n",
       "      <td>14</td>\n",
       "      <td>15</td>\n",
       "      <td>39</td>\n",
       "      <td>8</td>\n",
       "      <td>28</td>\n",
       "    </tr>\n",
       "    <tr>\n",
       "      <th>2</th>\n",
       "      <td>1</td>\n",
       "      <td>71</td>\n",
       "      <td>44</td>\n",
       "      <td>34</td>\n",
       "      <td>74</td>\n",
       "      <td>9</td>\n",
       "      <td>23</td>\n",
       "      <td>13</td>\n",
       "      <td>11</td>\n",
       "      <td>7</td>\n",
       "      <td>...</td>\n",
       "      <td>15</td>\n",
       "      <td>14</td>\n",
       "      <td>6</td>\n",
       "      <td>5</td>\n",
       "      <td>19</td>\n",
       "      <td>14</td>\n",
       "      <td>15</td>\n",
       "      <td>39</td>\n",
       "      <td>8</td>\n",
       "      <td>28</td>\n",
       "    </tr>\n",
       "    <tr>\n",
       "      <th>3</th>\n",
       "      <td>0</td>\n",
       "      <td>70</td>\n",
       "      <td>45</td>\n",
       "      <td>33</td>\n",
       "      <td>74</td>\n",
       "      <td>9</td>\n",
       "      <td>23</td>\n",
       "      <td>12</td>\n",
       "      <td>10</td>\n",
       "      <td>5</td>\n",
       "      <td>...</td>\n",
       "      <td>15</td>\n",
       "      <td>14</td>\n",
       "      <td>6</td>\n",
       "      <td>5</td>\n",
       "      <td>19</td>\n",
       "      <td>14</td>\n",
       "      <td>15</td>\n",
       "      <td>39</td>\n",
       "      <td>8</td>\n",
       "      <td>28</td>\n",
       "    </tr>\n",
       "    <tr>\n",
       "      <th>4</th>\n",
       "      <td>1</td>\n",
       "      <td>76</td>\n",
       "      <td>45</td>\n",
       "      <td>36</td>\n",
       "      <td>76</td>\n",
       "      <td>9</td>\n",
       "      <td>24</td>\n",
       "      <td>14</td>\n",
       "      <td>11</td>\n",
       "      <td>5</td>\n",
       "      <td>...</td>\n",
       "      <td>14</td>\n",
       "      <td>12</td>\n",
       "      <td>9</td>\n",
       "      <td>3</td>\n",
       "      <td>15</td>\n",
       "      <td>9</td>\n",
       "      <td>15</td>\n",
       "      <td>39</td>\n",
       "      <td>24</td>\n",
       "      <td>7</td>\n",
       "    </tr>\n",
       "  </tbody>\n",
       "</table>\n",
       "<p>5 rows × 33 columns</p>\n",
       "</div>"
      ],
      "text/plain": [
       "   Win  A_PPG  A_FG%  A_FG3%  A_FT%  A_OR_per_game  A_DR_per_game  \\\n",
       "0    1     78     45      37     80             10             23   \n",
       "1    0     78     45      37     80             10             23   \n",
       "2    1     71     44      34     74              9             23   \n",
       "3    0     70     45      33     74              9             23   \n",
       "4    1     76     45      36     76              9             24   \n",
       "\n",
       "   A_Ast_per_game  A_TO_per_game  A_Stl_per_game  ...  B_Ast_per_game  \\\n",
       "0              15             12               8  ...              13   \n",
       "1              15             12               8  ...              15   \n",
       "2              13             11               7  ...              15   \n",
       "3              12             10               5  ...              15   \n",
       "4              14             11               5  ...              14   \n",
       "\n",
       "   B_TO_per_game  B_Stl_per_game  B_Blk_per_game  B_PF_per_game  B_Road_Wins  \\\n",
       "0             12               7               3             21           10   \n",
       "1             14               6               5             19           14   \n",
       "2             14               6               5             19           14   \n",
       "3             14               6               5             19           14   \n",
       "4             12               9               3             15            9   \n",
       "\n",
       "   B_ConfAbbrev  B_TotalD1Seasons  B_Seed  B_CoachName  \n",
       "0            12                32      16            3  \n",
       "1            15                39       8           28  \n",
       "2            15                39       8           28  \n",
       "3            15                39       8           28  \n",
       "4            15                39      24            7  \n",
       "\n",
       "[5 rows x 33 columns]"
      ]
     },
     "execution_count": 8,
     "metadata": {},
     "output_type": "execute_result"
    }
   ],
   "source": [
    "# Merge with annual information for Team A\n",
    "results_2023 = tourney_2023_short.merge(annual_info_A, how='inner', on=['Season','TeamA'])\n",
    "\n",
    "# Merge with annual information for Team B\n",
    "results_2023 = results_2023.merge(annual_info_B, how='inner', on=['Season','TeamB'])\n",
    "\n",
    "results_2023 = results_2023.drop(['Season', 'TeamA', 'TeamB', 'A_TeamName', 'B_TeamName', 'A_Qualified', 'B_Qualified'], axis=1)\n",
    "\n",
    "# As we can see, A_Seed and B_seed are the columns that contain NaN values. We will replace the NaN with 'Unknown'\n",
    "results_2023['A_Seed'].fillna(value='Unknown', inplace=True)\n",
    "results_2023['B_Seed'].fillna(value='Unknown', inplace=True)\n",
    "\n",
    "# Creating a list of column names to encode\n",
    "cols_to_encode = ['A_ConfAbbrev','A_Seed','A_CoachName','B_ConfAbbrev','B_Seed','B_CoachName']\n",
    "\n",
    "# Instantiating the LabelEncoder object\n",
    "le = LabelEncoder()\n",
    "\n",
    "# Looping through the columns to encode and apply label encoding\n",
    "for col in cols_to_encode:\n",
    "    results_2023[col] = le.fit_transform(results_2023[col])\n",
    "\n",
    "# Printing out first five rows to check\n",
    "results_2023.head()"
   ]
  },
  {
   "attachments": {},
   "cell_type": "markdown",
   "metadata": {},
   "source": [
    "Before splitting our test and train data, we want to remove the season data for the years we'd like to predict later on.  We remove those years of interest here."
   ]
  },
  {
   "cell_type": "code",
   "execution_count": 9,
   "metadata": {},
   "outputs": [],
   "source": [
    "# Pull out the tournament games for 2018-2023 and leave the rest (we don't want to train the model on data it will see later)\n",
    "condition = ((df[\"Season\"].isin([2018, 2019, 2021, 2022])) & (df[\"TourneyGame\"] == 1))\n",
    "\n",
    "df = df[~condition]\n",
    "\n",
    "df = df.drop(['Season', 'DayNum', 'TeamA', 'TeamB', 'TourneyGame'], axis=1)"
   ]
  },
  {
   "attachments": {},
   "cell_type": "markdown",
   "metadata": {},
   "source": [
    "Here we generate our X_train, X_test, y_train, y_test using Win as our target. We have a lot of data, so we use a test size of .25"
   ]
  },
  {
   "cell_type": "code",
   "execution_count": 10,
   "metadata": {},
   "outputs": [],
   "source": [
    "X = df[df.columns.difference(['Win'])]\n",
    "y = df['Win']\n",
    "\n",
    "X_train, X_test, y_train, y_test = train_test_split(X, y, test_size=0.25, random_state=seed)"
   ]
  },
  {
   "attachments": {},
   "cell_type": "markdown",
   "metadata": {},
   "source": [
    "Now it's time to scale our data and fit the scaling object to our train and test data.\n",
    "\n",
    "We broke out individual X and y sets for each year of interest as well so we can run our models on individual years after having trained on the larger dataset that spans data from 2003 - 2017."
   ]
  },
  {
   "cell_type": "code",
   "execution_count": 11,
   "metadata": {},
   "outputs": [],
   "source": [
    "# Initializing the scaler object\n",
    "scaler = PowerTransformer()\n",
    "\n",
    "# Fitting the scaler object on the X_train and X_test\n",
    "X_train = scaler.fit_transform(X_train)\n",
    "X_test = scaler.fit_transform(X_test)\n",
    "\n",
    "# Generating separate X,y for each year of interest, 2018-2023\n",
    "X_2018 = results_2018[results_2018.columns.difference(['Win'])]\n",
    "y_2018 = results_2018['Win']\n",
    "\n",
    "X_2019 = results_2018[results_2019.columns.difference(['Win'])]\n",
    "y_2019 = results_2019['Win']\n",
    "\n",
    "X_2021 = results_2021[results_2021.columns.difference(['Win'])]\n",
    "y_2021 = results_2021['Win']\n",
    "\n",
    "X_2022 = results_2022[results_2022.columns.difference(['Win'])]\n",
    "y_2022 = results_2022['Win']\n",
    "\n",
    "X_2023 = results_2022[results_2022.columns.difference(['Win'])]\n",
    "y_2023 = results_2022['Win']\n",
    "\n",
    "# Transforming the data\n",
    "results_2018_scaled = scaler.fit_transform(results_2018)\n",
    "results_2019_scaled = scaler.fit_transform(results_2019)\n",
    "results_2021_scaled = scaler.fit_transform(results_2021)\n",
    "results_2022_scaled = scaler.fit_transform(results_2022)\n",
    "results_2023_scaled = scaler.fit_transform(results_2023)\n"
   ]
  },
  {
   "attachments": {},
   "cell_type": "markdown",
   "metadata": {},
   "source": [
    "Our TeamA TeamB selection was essentially random, but here we do a quick balance check to make sure that our wins are not skewed. They are very close so no additional balancing is needed."
   ]
  },
  {
   "cell_type": "code",
   "execution_count": 12,
   "metadata": {},
   "outputs": [
    {
     "data": {
      "image/png": "[encoded data removed]",
      "text/plain": [
       "<Figure size 640x480 with 1 Axes>"
      ]
     },
     "metadata": {},
     "output_type": "display_data"
    }
   ],
   "source": [
    "sns.histplot(data=y_train);"
   ]
  },
  {
   "attachments": {},
   "cell_type": "markdown",
   "metadata": {},
   "source": [
    "### Logistic Regression\n",
    "\n",
    "Our first model is a logisitic regression - here we initialize the model with our random_seed and set a max_iter of 20,000, which was set after we got convergence warnings for a max_iter of 10,000."
   ]
  },
  {
   "cell_type": "code",
   "execution_count": 13,
   "metadata": {},
   "outputs": [
    {
     "name": "stdout",
     "output_type": "stream",
     "text": [
      "Accuracy: 0.730757899388672\n"
     ]
    }
   ],
   "source": [
    "# initialize and fit the model\n",
    "lr = LogisticRegression(random_state=seed, max_iter=20000)\n",
    "lr.fit(X_train,y_train)\n",
    "y_pred = lr.predict(X_test)\n",
    "\n",
    "# print the accuracy score\n",
    "print(\"Accuracy:\",metrics.accuracy_score(y_test, y_pred))"
   ]
  },
  {
   "attachments": {},
   "cell_type": "markdown",
   "metadata": {},
   "source": [
    "The model has a pretty high accuracy score of 73.1%!  Very exciting stuff...\n",
    "\n",
    "Now we will use GridSearchCV to tune our hyperparameters and see if we can make it even better.  "
   ]
  },
  {
   "cell_type": "code",
   "execution_count": 14,
   "metadata": {},
   "outputs": [
    {
     "name": "stdout",
     "output_type": "stream",
     "text": [
      "Tuned Hyperparameters : {'C': 0.1, 'penalty': 'l1', 'solver': 'liblinear'}\n",
      "Accuracy : 0.7230453771270364\n"
     ]
    }
   ],
   "source": [
    "# avoiding the warnings that come with GridSearchCV\n",
    "import warnings\n",
    "warnings.filterwarnings('ignore')\n",
    "\n",
    "# parameter grid\n",
    "parameters = {\n",
    "    'penalty' : ['l1','l2','elasticnet',None], \n",
    "    'C'       : [.1,1,10],\n",
    "    'solver'  : ['newton-cg', 'sag', 'liblinear'],\n",
    "}\n",
    "\n",
    "# run a GridSearchCV function to find the optimal parameters\n",
    "clf = GridSearchCV(lr,                        # model\n",
    "                   param_grid = parameters,   # hyperparameters\n",
    "                   scoring='accuracy',        # metric for scoring\n",
    "                   cv=10)                     # number of folds\n",
    "\n",
    "# train using the training set\n",
    "clf.fit(X_train,y_train)\n",
    "\n",
    "# print out the tuned hyperparameters and training accuracy\n",
    "print(\"Tuned Hyperparameters :\", clf.best_params_)\n",
    "print(\"Accuracy :\",clf.best_score_)"
   ]
  },
  {
   "attachments": {},
   "cell_type": "markdown",
   "metadata": {},
   "source": [
    "Now that we have our tuned hyperparameters, we'll re-initialize the model with those recommended settings and train the model again."
   ]
  },
  {
   "cell_type": "code",
   "execution_count": 15,
   "metadata": {},
   "outputs": [
    {
     "name": "stdout",
     "output_type": "stream",
     "text": [
      "Accuracy: 0.730757899388672\n"
     ]
    }
   ],
   "source": [
    "# re-initializing the model with tuned parameters\n",
    "lr = LogisticRegression(random_state=seed, max_iter=20000,\n",
    "                            C = 0.1, \n",
    "                            penalty = 'l1', \n",
    "                            solver = 'liblinear')\n",
    "\n",
    "# training model\n",
    "lr.fit(X_train,y_train)\n",
    "y_pred_lr_tuned = lr.predict(X_test)\n",
    "\n",
    "# print accuracy using score\n",
    "print(\"Accuracy:\",lr.score(X_test, y_test))"
   ]
  },
  {
   "attachments": {},
   "cell_type": "markdown",
   "metadata": {},
   "source": [
    "It doesn't look like our tuning helped improve our accuracy that much. What a bummer...\n",
    "\n",
    "Next, we'll generate a confusion matrix to see if the model has a hard time predicting a particular class."
   ]
  },
  {
   "cell_type": "code",
   "execution_count": 16,
   "metadata": {},
   "outputs": [
    {
     "data": {
      "text/plain": [
       "<sklearn.metrics._plot.confusion_matrix.ConfusionMatrixDisplay at 0x7ff0b83dde80>"
      ]
     },
     "execution_count": 16,
     "metadata": {},
     "output_type": "execute_result"
    },
    {
     "data": {
      "image/png": "[encoded data removed]",
      "text/plain": [
       "<Figure size 640x480 with 2 Axes>"
      ]
     },
     "metadata": {},
     "output_type": "display_data"
    }
   ],
   "source": [
    "# Calculating the confusion matrix for the LR tuned\n",
    "cm_lr_tuned = confusion_matrix(y_test, y_pred_lr_tuned)\n",
    "\n",
    "# Creating a ConfusionMatrixDisplay object \n",
    "display_cm_lr_tuned = ConfusionMatrixDisplay(confusion_matrix=cm_lr_tuned, display_labels=['Lose', 'Win'])\n",
    "\n",
    "# Plotting the confusion matrix using ConfusionMatrixDisplay object\n",
    "display_cm_lr_tuned.plot(cmap='Blues')"
   ]
  },
  {
   "cell_type": "code",
   "execution_count": 17,
   "metadata": {},
   "outputs": [
    {
     "name": "stdout",
     "output_type": "stream",
     "text": [
      "              precision    recall  f1-score   support\n",
      "\n",
      "        Lose       0.73      0.71      0.72     13239\n",
      "         Win       0.73      0.75      0.74     13915\n",
      "\n",
      "    accuracy                           0.73     27154\n",
      "   macro avg       0.73      0.73      0.73     27154\n",
      "weighted avg       0.73      0.73      0.73     27154\n",
      "\n"
     ]
    }
   ],
   "source": [
    "# generate the classification report\n",
    "print(classification_report(y_test, y_pred_lr_tuned, digits= 2, target_names=['Lose', 'Win']))"
   ]
  },
  {
   "attachments": {},
   "cell_type": "markdown",
   "metadata": {},
   "source": [
    "Our accuracy is right around 73%, but interestingly, it looks like TeamA wins and loses about an equal number of times. Looking at the true labels, the difference between TeamA wins and losses was only 676 games, which favored wins. The logistic regression did a little better predicting wins than losses.\n",
    "\n",
    "Now it's time to apply our trained model just to the tournament games in our years of interest. In the following section, we predict the outcomes for each tournamnet, check our accuracy score, and return the yearly accuracy ratings in a condensed dataframe called `lr_accuracy`"
   ]
  },
  {
   "cell_type": "code",
   "execution_count": 18,
   "metadata": {},
   "outputs": [
    {
     "data": {
      "text/html": [
       "<div>\n",
       "<style scoped>\n",
       "    .dataframe tbody tr th:only-of-type {\n",
       "        vertical-align: middle;\n",
       "    }\n",
       "\n",
       "    .dataframe tbody tr th {\n",
       "        vertical-align: top;\n",
       "    }\n",
       "\n",
       "    .dataframe thead th {\n",
       "        text-align: right;\n",
       "    }\n",
       "</style>\n",
       "<table border=\"1\" class=\"dataframe\">\n",
       "  <thead>\n",
       "    <tr style=\"text-align: right;\">\n",
       "      <th></th>\n",
       "      <th>2018</th>\n",
       "      <th>2019</th>\n",
       "      <th>2021</th>\n",
       "      <th>2022</th>\n",
       "      <th>2023</th>\n",
       "    </tr>\n",
       "  </thead>\n",
       "  <tbody>\n",
       "    <tr>\n",
       "      <th>lr_accuracy</th>\n",
       "      <td>0.522388</td>\n",
       "      <td>0.492537</td>\n",
       "      <td>0.5</td>\n",
       "      <td>0.492537</td>\n",
       "      <td>0.492537</td>\n",
       "    </tr>\n",
       "  </tbody>\n",
       "</table>\n",
       "</div>"
      ],
      "text/plain": [
       "                 2018      2019  2021      2022      2023\n",
       "lr_accuracy  0.522388  0.492537   0.5  0.492537  0.492537"
      ]
     },
     "execution_count": 18,
     "metadata": {},
     "output_type": "execute_result"
    }
   ],
   "source": [
    "# predicting outcomes for each tournament year\n",
    "lr_pred_2018 = lr.predict(X_2018)\n",
    "lr_pred_2019 = lr.predict(X_2019)\n",
    "lr_pred_2021 = lr.predict(X_2021)\n",
    "lr_pred_2022 = lr.predict(X_2022)\n",
    "lr_pred_2023 = lr.predict(X_2023)\n",
    "\n",
    "# gathering accuracy scores for each tournament year\n",
    "lr_accuracy_2018 = accuracy_score(y_2018, lr_pred_2018)\n",
    "lr_accuracy_2019 = accuracy_score(y_2019, lr_pred_2019)\n",
    "lr_accuracy_2021 = accuracy_score(y_2021, lr_pred_2021)\n",
    "lr_accuracy_2022 = accuracy_score(y_2022, lr_pred_2022)\n",
    "lr_accuracy_2023 = accuracy_score(y_2023, lr_pred_2023)\n",
    "\n",
    "# condensing accuracy ratings into a dataframe\n",
    "years=['2018','2019','2021','2022','2023']\n",
    "lr_accuracy = pd.DataFrame([[lr_accuracy_2018,lr_accuracy_2019,lr_accuracy_2021,lr_accuracy_2022,lr_accuracy_2023]], columns=years)\n",
    "lr_accuracy.index = ['lr_accuracy']\n",
    "\n",
    "# print dataframe to check accuracy\n",
    "lr_accuracy\n"
   ]
  },
  {
   "attachments": {},
   "cell_type": "markdown",
   "metadata": {},
   "source": [
    "We can see from the output above that the accuarcy ratings listed here are much worse than the accuracy we got for our test data covering all years from 2003-2017. In a way, it makes sense that the accuracy ratings would drop with few games to predict in a given tournamnet year, and the bracket structure heavily penalizes any errors made in the beginning of the tournament.\n",
    "\n",
    "Later on, when we interpret our tournament outcomes, we'll want to be able to see what team matchups were associated with the predictions we made. The code below adds the binary classifier and the probability prediction onto the dataframe with all the team and game information for interpretability. "
   ]
  },
  {
   "cell_type": "code",
   "execution_count": 19,
   "metadata": {},
   "outputs": [
    {
     "data": {
      "text/html": [
       "<div>\n",
       "<style scoped>\n",
       "    .dataframe tbody tr th:only-of-type {\n",
       "        vertical-align: middle;\n",
       "    }\n",
       "\n",
       "    .dataframe tbody tr th {\n",
       "        vertical-align: top;\n",
       "    }\n",
       "\n",
       "    .dataframe thead th {\n",
       "        text-align: right;\n",
       "    }\n",
       "</style>\n",
       "<table border=\"1\" class=\"dataframe\">\n",
       "  <thead>\n",
       "    <tr style=\"text-align: right;\">\n",
       "      <th></th>\n",
       "      <th>A_Ast_per_game</th>\n",
       "      <th>A_Blk_per_game</th>\n",
       "      <th>A_CoachName</th>\n",
       "      <th>A_ConfAbbrev</th>\n",
       "      <th>A_DR_per_game</th>\n",
       "      <th>A_FG%</th>\n",
       "      <th>A_FG3%</th>\n",
       "      <th>A_FT%</th>\n",
       "      <th>A_OR_per_game</th>\n",
       "      <th>A_PF_per_game</th>\n",
       "      <th>...</th>\n",
       "      <th>B_Stl_per_game</th>\n",
       "      <th>B_TO_per_game</th>\n",
       "      <th>B_TeamName</th>\n",
       "      <th>B_TotalD1Seasons</th>\n",
       "      <th>Season</th>\n",
       "      <th>TeamA</th>\n",
       "      <th>TeamB</th>\n",
       "      <th>Win</th>\n",
       "      <th>Win_Pred</th>\n",
       "      <th>Win_Prob</th>\n",
       "    </tr>\n",
       "  </thead>\n",
       "  <tbody>\n",
       "    <tr>\n",
       "      <th>0</th>\n",
       "      <td>15</td>\n",
       "      <td>2</td>\n",
       "      <td>43</td>\n",
       "      <td>18</td>\n",
       "      <td>23</td>\n",
       "      <td>45</td>\n",
       "      <td>37</td>\n",
       "      <td>80</td>\n",
       "      <td>10</td>\n",
       "      <td>19</td>\n",
       "      <td>...</td>\n",
       "      <td>7</td>\n",
       "      <td>12</td>\n",
       "      <td>SE Missouri St</td>\n",
       "      <td>32</td>\n",
       "      <td>2023</td>\n",
       "      <td>1394</td>\n",
       "      <td>1369</td>\n",
       "      <td>1</td>\n",
       "      <td>0</td>\n",
       "      <td>0.00771</td>\n",
       "    </tr>\n",
       "    <tr>\n",
       "      <th>1</th>\n",
       "      <td>15</td>\n",
       "      <td>2</td>\n",
       "      <td>43</td>\n",
       "      <td>18</td>\n",
       "      <td>23</td>\n",
       "      <td>45</td>\n",
       "      <td>37</td>\n",
       "      <td>80</td>\n",
       "      <td>10</td>\n",
       "      <td>19</td>\n",
       "      <td>...</td>\n",
       "      <td>6</td>\n",
       "      <td>14</td>\n",
       "      <td>Mississippi St</td>\n",
       "      <td>39</td>\n",
       "      <td>2023</td>\n",
       "      <td>1338</td>\n",
       "      <td>1280</td>\n",
       "      <td>1</td>\n",
       "      <td>0</td>\n",
       "      <td>0.43687</td>\n",
       "    </tr>\n",
       "    <tr>\n",
       "      <th>2</th>\n",
       "      <td>13</td>\n",
       "      <td>4</td>\n",
       "      <td>6</td>\n",
       "      <td>15</td>\n",
       "      <td>23</td>\n",
       "      <td>44</td>\n",
       "      <td>34</td>\n",
       "      <td>74</td>\n",
       "      <td>9</td>\n",
       "      <td>16</td>\n",
       "      <td>...</td>\n",
       "      <td>6</td>\n",
       "      <td>14</td>\n",
       "      <td>F Dickinson</td>\n",
       "      <td>39</td>\n",
       "      <td>2023</td>\n",
       "      <td>1411</td>\n",
       "      <td>1192</td>\n",
       "      <td>0</td>\n",
       "      <td>0</td>\n",
       "      <td>0.00000</td>\n",
       "    </tr>\n",
       "    <tr>\n",
       "      <th>3</th>\n",
       "      <td>12</td>\n",
       "      <td>4</td>\n",
       "      <td>28</td>\n",
       "      <td>7</td>\n",
       "      <td>23</td>\n",
       "      <td>45</td>\n",
       "      <td>33</td>\n",
       "      <td>74</td>\n",
       "      <td>9</td>\n",
       "      <td>16</td>\n",
       "      <td>...</td>\n",
       "      <td>6</td>\n",
       "      <td>14</td>\n",
       "      <td>Arizona St</td>\n",
       "      <td>39</td>\n",
       "      <td>2023</td>\n",
       "      <td>1305</td>\n",
       "      <td>1113</td>\n",
       "      <td>0</td>\n",
       "      <td>0</td>\n",
       "      <td>0.00096</td>\n",
       "    </tr>\n",
       "    <tr>\n",
       "      <th>4</th>\n",
       "      <td>14</td>\n",
       "      <td>4</td>\n",
       "      <td>19</td>\n",
       "      <td>2</td>\n",
       "      <td>24</td>\n",
       "      <td>45</td>\n",
       "      <td>36</td>\n",
       "      <td>76</td>\n",
       "      <td>9</td>\n",
       "      <td>16</td>\n",
       "      <td>...</td>\n",
       "      <td>9</td>\n",
       "      <td>12</td>\n",
       "      <td>Alabama</td>\n",
       "      <td>39</td>\n",
       "      <td>2023</td>\n",
       "      <td>1394</td>\n",
       "      <td>1104</td>\n",
       "      <td>0</td>\n",
       "      <td>0</td>\n",
       "      <td>0.00000</td>\n",
       "    </tr>\n",
       "  </tbody>\n",
       "</table>\n",
       "<p>5 rows × 40 columns</p>\n",
       "</div>"
      ],
      "text/plain": [
       "  A_Ast_per_game A_Blk_per_game A_CoachName A_ConfAbbrev A_DR_per_game A_FG%  \\\n",
       "0             15              2          43           18            23    45   \n",
       "1             15              2          43           18            23    45   \n",
       "2             13              4           6           15            23    44   \n",
       "3             12              4          28            7            23    45   \n",
       "4             14              4          19            2            24    45   \n",
       "\n",
       "  A_FG3% A_FT% A_OR_per_game A_PF_per_game  ... B_Stl_per_game B_TO_per_game  \\\n",
       "0     37    80            10            19  ...              7            12   \n",
       "1     37    80            10            19  ...              6            14   \n",
       "2     34    74             9            16  ...              6            14   \n",
       "3     33    74             9            16  ...              6            14   \n",
       "4     36    76             9            16  ...              9            12   \n",
       "\n",
       "       B_TeamName B_TotalD1Seasons Season TeamA TeamB Win Win_Pred Win_Prob  \n",
       "0  SE Missouri St               32   2023  1394  1369   1        0  0.00771  \n",
       "1  Mississippi St               39   2023  1338  1280   1        0  0.43687  \n",
       "2     F Dickinson               39   2023  1411  1192   0        0  0.00000  \n",
       "3      Arizona St               39   2023  1305  1113   0        0  0.00096  \n",
       "4         Alabama               39   2023  1394  1104   0        0  0.00000  \n",
       "\n",
       "[5 rows x 40 columns]"
      ]
     },
     "execution_count": 19,
     "metadata": {},
     "output_type": "execute_result"
    }
   ],
   "source": [
    "# add the classification predictions and probability predictions to all the original tournamnet game information for 2018 (for interpretability)\n",
    "lr_pred_prob_2018 = lr.predict_proba(X_2018)\n",
    "lr_pred_prob_2018 = np.float64(lr_pred_prob_2018)\n",
    "\n",
    "# takes the predictions out of scientific notation \n",
    "pd.set_option('display.float_format', lambda x: '%.5f' % x)\n",
    "tourney_2018['Win_Pred'] = lr_pred_2018\n",
    "tourney_2018['Win_Prob'] = lr_pred_prob_2018[:,1]\n",
    "tourney_2018 = tourney_2018.drop(['DayNum','TourneyGame','A_Qualified', 'B_Qualified'], axis=1)\n",
    "\n",
    "# add the classification predictions and probability predictions to all the original tournamnet game information for 2019\n",
    "lr_pred_prob_2019 = lr.predict_proba(X_2019)\n",
    "lr_pred_prob_2019 = np.float64(lr_pred_prob_2019)\n",
    "tourney_2019['Win_Pred'] = lr_pred_2019\n",
    "tourney_2019['Win_Prob'] = lr_pred_prob_2019[:,1]\n",
    "tourney_2019 = tourney_2019.drop(['DayNum','TourneyGame','A_Qualified', 'B_Qualified'], axis=1)\n",
    "\n",
    "# add the classification predictions and probability predictions to all the original tournamnet game information for 2021\n",
    "lr_pred_prob_2021 = lr.predict_proba(X_2021)\n",
    "lr_pred_prob_2021 = np.float64(lr_pred_prob_2021)\n",
    "tourney_2021['Win_Pred'] = lr_pred_2021\n",
    "tourney_2021['Win_Prob'] = lr_pred_prob_2021[:,1]\n",
    "tourney_2021 = tourney_2021.drop(['DayNum','TourneyGame','A_Qualified', 'B_Qualified'], axis=1)\n",
    "\n",
    "# add the classification predictions and probability predictions to all the original tournamnet game information for 2022\n",
    "lr_pred_prob_2022 = lr.predict_proba(X_2022)\n",
    "lr_pred_prob_2022 = np.float64(lr_pred_prob_2022)\n",
    "tourney_2022['Win_Pred'] = lr_pred_2022\n",
    "tourney_2022['Win_Prob'] = lr_pred_prob_2022[:,1]\n",
    "tourney_2022 = tourney_2022.drop(['DayNum','TourneyGame','A_Qualified', 'B_Qualified'], axis=1)\n",
    "\n",
    "# add the classification predictions and probability predictions to all the original tournamnet game information for 2023\n",
    "lr_pred_prob_2023 = lr.predict_proba(X_2023)\n",
    "lr_pred_prob_2023 = np.float64(lr_pred_prob_2023)\n",
    "results_2023['Win_Pred'] = lr_pred_2023\n",
    "results_2023['Win_Prob'] = lr_pred_prob_2023[:,1]\n",
    "tourney_2023 = pd.concat([tourney_2023_admin, results_2023], axis=1)\n",
    "tourney_2023 = tourney_2023.T.groupby(level=0).first().T\n",
    "\n",
    "# print the head of one of the dataframes here, just to check and make sure it looks good\n",
    "tourney_2023.head()\n"
   ]
  },
  {
   "attachments": {},
   "cell_type": "markdown",
   "metadata": {},
   "source": [
    "Apart from accuracy, we want to be able to do a side-by-side comparieson of how 'confident' the predicted probabilities are. This will help us answer our fundamental question concerning whether or not tournament outcomes are getting more difficult to predict. \n",
    "\n",
    "In the following code, we take the probability predictions for each game in each year and concatenate them into a new dataframe called `lr_results`"
   ]
  },
  {
   "cell_type": "code",
   "execution_count": 20,
   "metadata": {},
   "outputs": [
    {
     "data": {
      "text/html": [
       "<div>\n",
       "<style scoped>\n",
       "    .dataframe tbody tr th:only-of-type {\n",
       "        vertical-align: middle;\n",
       "    }\n",
       "\n",
       "    .dataframe tbody tr th {\n",
       "        vertical-align: top;\n",
       "    }\n",
       "\n",
       "    .dataframe thead th {\n",
       "        text-align: right;\n",
       "    }\n",
       "</style>\n",
       "<table border=\"1\" class=\"dataframe\">\n",
       "  <thead>\n",
       "    <tr style=\"text-align: right;\">\n",
       "      <th></th>\n",
       "      <th>2018</th>\n",
       "      <th>2019</th>\n",
       "      <th>2021</th>\n",
       "      <th>2022</th>\n",
       "      <th>2023</th>\n",
       "    </tr>\n",
       "  </thead>\n",
       "  <tbody>\n",
       "    <tr>\n",
       "      <th>0</th>\n",
       "      <td>0.00039</td>\n",
       "      <td>0.00039</td>\n",
       "      <td>0.00007</td>\n",
       "      <td>0.00771</td>\n",
       "      <td>0.00771</td>\n",
       "    </tr>\n",
       "    <tr>\n",
       "      <th>1</th>\n",
       "      <td>0.00000</td>\n",
       "      <td>0.00000</td>\n",
       "      <td>0.00000</td>\n",
       "      <td>0.43687</td>\n",
       "      <td>0.43687</td>\n",
       "    </tr>\n",
       "    <tr>\n",
       "      <th>2</th>\n",
       "      <td>0.00435</td>\n",
       "      <td>0.00435</td>\n",
       "      <td>0.00001</td>\n",
       "      <td>0.00000</td>\n",
       "      <td>0.00000</td>\n",
       "    </tr>\n",
       "    <tr>\n",
       "      <th>3</th>\n",
       "      <td>0.00042</td>\n",
       "      <td>0.00042</td>\n",
       "      <td>0.00051</td>\n",
       "      <td>0.00096</td>\n",
       "      <td>0.00096</td>\n",
       "    </tr>\n",
       "    <tr>\n",
       "      <th>4</th>\n",
       "      <td>0.00000</td>\n",
       "      <td>0.00000</td>\n",
       "      <td>0.00485</td>\n",
       "      <td>0.00000</td>\n",
       "      <td>0.00000</td>\n",
       "    </tr>\n",
       "    <tr>\n",
       "      <th>...</th>\n",
       "      <td>...</td>\n",
       "      <td>...</td>\n",
       "      <td>...</td>\n",
       "      <td>...</td>\n",
       "      <td>...</td>\n",
       "    </tr>\n",
       "    <tr>\n",
       "      <th>62</th>\n",
       "      <td>0.86672</td>\n",
       "      <td>0.86672</td>\n",
       "      <td>0.00000</td>\n",
       "      <td>0.00159</td>\n",
       "      <td>0.00159</td>\n",
       "    </tr>\n",
       "    <tr>\n",
       "      <th>63</th>\n",
       "      <td>0.03278</td>\n",
       "      <td>0.03278</td>\n",
       "      <td>0.00000</td>\n",
       "      <td>0.00000</td>\n",
       "      <td>0.00000</td>\n",
       "    </tr>\n",
       "    <tr>\n",
       "      <th>64</th>\n",
       "      <td>0.00002</td>\n",
       "      <td>0.00002</td>\n",
       "      <td>0.00351</td>\n",
       "      <td>0.05857</td>\n",
       "      <td>0.05857</td>\n",
       "    </tr>\n",
       "    <tr>\n",
       "      <th>65</th>\n",
       "      <td>0.24405</td>\n",
       "      <td>0.24405</td>\n",
       "      <td>0.00000</td>\n",
       "      <td>0.00020</td>\n",
       "      <td>0.00020</td>\n",
       "    </tr>\n",
       "    <tr>\n",
       "      <th>66</th>\n",
       "      <td>0.00000</td>\n",
       "      <td>0.00000</td>\n",
       "      <td>NaN</td>\n",
       "      <td>0.00000</td>\n",
       "      <td>0.00000</td>\n",
       "    </tr>\n",
       "  </tbody>\n",
       "</table>\n",
       "<p>67 rows × 5 columns</p>\n",
       "</div>"
      ],
      "text/plain": [
       "      2018    2019    2021    2022    2023\n",
       "0  0.00039 0.00039 0.00007 0.00771 0.00771\n",
       "1  0.00000 0.00000 0.00000 0.43687 0.43687\n",
       "2  0.00435 0.00435 0.00001 0.00000 0.00000\n",
       "3  0.00042 0.00042 0.00051 0.00096 0.00096\n",
       "4  0.00000 0.00000 0.00485 0.00000 0.00000\n",
       "..     ...     ...     ...     ...     ...\n",
       "62 0.86672 0.86672 0.00000 0.00159 0.00159\n",
       "63 0.03278 0.03278 0.00000 0.00000 0.00000\n",
       "64 0.00002 0.00002 0.00351 0.05857 0.05857\n",
       "65 0.24405 0.24405 0.00000 0.00020 0.00020\n",
       "66 0.00000 0.00000     NaN 0.00000 0.00000\n",
       "\n",
       "[67 rows x 5 columns]"
      ]
     },
     "execution_count": 20,
     "metadata": {},
     "output_type": "execute_result"
    }
   ],
   "source": [
    "# concatenate the predicted probability dataframes previously generated so that each year is represented\n",
    "lr_results = pd.concat([pd.DataFrame(lr_pred_prob_2018[:,1]), pd.DataFrame(lr_pred_prob_2019[:,1]), \n",
    "                        pd.DataFrame(lr_pred_prob_2021[:,1]), pd.DataFrame(lr_pred_prob_2022[:,1]), \n",
    "                        pd.DataFrame(lr_pred_prob_2023[:,1])], axis=1)\n",
    "\n",
    "# create headings corresponding to each year\n",
    "lr_results = lr_results.set_axis(['2018', '2019', '2021', '2022', '2023'], axis=1, inplace=False)\n",
    "\n",
    "# print results to check for accuracy\n",
    "lr_results"
   ]
  },
  {
   "attachments": {},
   "cell_type": "markdown",
   "metadata": {},
   "source": [
    "In order to accurately measure the condfidence of our models' predictions, we need to make sure we are equally weighting the numbers very close to 1 (very certain that TeamA will win) and the numbers very close to 0 (very certain that TeamA will not win). This process should also apply for the unconfident predictions that are barley favoring one team or the other. To do that, we applied a function taht takes the absolute value of each predictions distance from .5, which represents no prediction at all. This gives us our 'confidence' metric, which we can use to see if game predictions are getting less certain. Aggregate predictions across years that are smaller indiciate more uncertaintly."
   ]
  },
  {
   "cell_type": "code",
   "execution_count": 21,
   "metadata": {},
   "outputs": [
    {
     "data": {
      "text/html": [
       "<div>\n",
       "<style scoped>\n",
       "    .dataframe tbody tr th:only-of-type {\n",
       "        vertical-align: middle;\n",
       "    }\n",
       "\n",
       "    .dataframe tbody tr th {\n",
       "        vertical-align: top;\n",
       "    }\n",
       "\n",
       "    .dataframe thead th {\n",
       "        text-align: right;\n",
       "    }\n",
       "</style>\n",
       "<table border=\"1\" class=\"dataframe\">\n",
       "  <thead>\n",
       "    <tr style=\"text-align: right;\">\n",
       "      <th></th>\n",
       "      <th>2018</th>\n",
       "      <th>2019</th>\n",
       "      <th>2021</th>\n",
       "      <th>2022</th>\n",
       "      <th>2023</th>\n",
       "    </tr>\n",
       "  </thead>\n",
       "  <tbody>\n",
       "    <tr>\n",
       "      <th>lr_confidence</th>\n",
       "      <td>29.15519</td>\n",
       "      <td>29.15519</td>\n",
       "      <td>29.11121</td>\n",
       "      <td>28.24326</td>\n",
       "      <td>28.24326</td>\n",
       "    </tr>\n",
       "    <tr>\n",
       "      <th>lr_accuracy</th>\n",
       "      <td>0.52239</td>\n",
       "      <td>0.49254</td>\n",
       "      <td>0.50000</td>\n",
       "      <td>0.49254</td>\n",
       "      <td>0.49254</td>\n",
       "    </tr>\n",
       "  </tbody>\n",
       "</table>\n",
       "</div>"
      ],
      "text/plain": [
       "                  2018     2019     2021     2022     2023\n",
       "lr_confidence 29.15519 29.15519 29.11121 28.24326 28.24326\n",
       "lr_accuracy    0.52239  0.49254  0.50000  0.49254  0.49254"
      ]
     },
     "execution_count": 21,
     "metadata": {},
     "output_type": "execute_result"
    }
   ],
   "source": [
    "# apply lambda function to normalize confidence predictions around 0.5\n",
    "lr_results = lr_results.apply(lambda x: abs(x-.5))\n",
    "lr_confidence = lr_results.sum().to_frame().T\n",
    "lr_confidence.index = ['lr_confidence']\n",
    "\n",
    "# create a matrix that takes the confidence and accuracy dataframes created previously to make one matrix holding the results for logistic regression\n",
    "lr_matrix = pd.concat([lr_confidence,lr_accuracy],axis=0)\n",
    "lr_matrix"
   ]
  },
  {
   "attachments": {},
   "cell_type": "markdown",
   "metadata": {},
   "source": [
    "### Naive Bayes"
   ]
  },
  {
   "attachments": {},
   "cell_type": "markdown",
   "metadata": {},
   "source": [
    "Our second model is a Gaussian Naive Bayes - here we start by initializing the model."
   ]
  },
  {
   "cell_type": "code",
   "execution_count": 22,
   "metadata": {},
   "outputs": [
    {
     "name": "stdout",
     "output_type": "stream",
     "text": [
      "Accuracy: 0.7191205715548353\n"
     ]
    }
   ],
   "source": [
    "gnb = GaussianNB()\n",
    "gnb.fit(X_train,y_train)\n",
    "y_pred = gnb.predict(X_test)\n",
    "\n",
    "print(\"Accuracy:\",metrics.accuracy_score(y_test, y_pred))"
   ]
  },
  {
   "attachments": {},
   "cell_type": "markdown",
   "metadata": {},
   "source": [
    "The initial accuracy score is slightly worse than what we found with the logistic regression, but in our next step we will tune the hyperparameters to see if we can improve on that."
   ]
  },
  {
   "cell_type": "code",
   "execution_count": 23,
   "metadata": {},
   "outputs": [],
   "source": [
    "# parameter grid - commented out to reduce commpute time\n",
    "# parameters = {\n",
    "#     'var_smoothing': [1e-2, 1e-3, 1e-4, 1e-5, 1e-6, 1e-7, 1e-8, 1e-9, 1e-10, 1e-11, 1e-12, 1e-13, 1e-14, 1e-15]\n",
    "# }\n",
    "\n",
    "# # run a GridSearchCV function to find the optimal parameters\n",
    "# gnb_clf = GridSearchCV(gnb,                         # model\n",
    "#                        param_grid = parameters,    # hyperparameters\n",
    "#                        scoring='accuracy',          # metric for scoring\n",
    "#                        cv=10)                       # number of folds\n",
    "\n",
    "# # train using the training set\n",
    "# gnb_clf.fit(X_train, y_train)\n",
    "\n",
    "# # print out the tuned hyperparameters and training accuracy\n",
    "# print(\"Tuned Hyperparameters :\", gnb_clf.best_params_)\n",
    "# print(\"Accuracy :\",gnb_clf.best_score_)\n",
    "\n",
    "# output from the above code\n",
    "# Tuned Hyperparameters : {'var_smoothing': 0.0001}\n",
    "# Accuracy : 0.703931950326813\n"
   ]
  },
  {
   "attachments": {},
   "cell_type": "markdown",
   "metadata": {},
   "source": [
    "Our ideal var_smoothing outcome was .0001, so we apply that to our model and use it to generate our predictions on the test data - similar to the logistic regression model, the tuned hyperparameters don't seem to make an impact on accuracy."
   ]
  },
  {
   "cell_type": "code",
   "execution_count": 24,
   "metadata": {},
   "outputs": [
    {
     "name": "stdout",
     "output_type": "stream",
     "text": [
      "Accuracy: 0.7191205715548353\n"
     ]
    }
   ],
   "source": [
    "gnb = GaussianNB(var_smoothing=0.0001)\n",
    "gnb.fit(X_train,y_train)\n",
    "y_pred_gnb_tuned = gnb.predict(X_test)\n",
    "print(\"Accuracy:\",gnb.score(X_test, y_test))"
   ]
  },
  {
   "attachments": {},
   "cell_type": "markdown",
   "metadata": {},
   "source": [
    "Next, we'll generate a confusion matrix to see if the model has a hard time predicting a particular class."
   ]
  },
  {
   "cell_type": "code",
   "execution_count": 25,
   "metadata": {},
   "outputs": [
    {
     "data": {
      "text/plain": [
       "<sklearn.metrics._plot.confusion_matrix.ConfusionMatrixDisplay at 0x7ff0d9106430>"
      ]
     },
     "execution_count": 25,
     "metadata": {},
     "output_type": "execute_result"
    },
    {
     "data": {
      "image/png": "[encoded data removed]",
      "text/plain": [
       "<Figure size 640x480 with 2 Axes>"
      ]
     },
     "metadata": {},
     "output_type": "display_data"
    }
   ],
   "source": [
    "# Calculating the confusion matrix for the GNB tuned\n",
    "cm_gnb_tuned = confusion_matrix(y_test, y_pred_gnb_tuned)\n",
    "\n",
    "# Creating a ConfusionMatrixDisplay object \n",
    "display_cm_gnb_tuned = ConfusionMatrixDisplay(confusion_matrix=cm_gnb_tuned, display_labels=['Lose', 'Win'])\n",
    "\n",
    "# Plotting the confusion matrix using ConfusionMatrixDisplay object\n",
    "display_cm_gnb_tuned.plot(cmap='Blues')"
   ]
  },
  {
   "cell_type": "code",
   "execution_count": 26,
   "metadata": {},
   "outputs": [
    {
     "name": "stdout",
     "output_type": "stream",
     "text": [
      "              precision    recall  f1-score   support\n",
      "\n",
      "        Lose       0.71      0.71      0.71     13239\n",
      "         Win       0.73      0.73      0.73     13915\n",
      "\n",
      "    accuracy                           0.72     27154\n",
      "   macro avg       0.72      0.72      0.72     27154\n",
      "weighted avg       0.72      0.72      0.72     27154\n",
      "\n"
     ]
    }
   ],
   "source": [
    "print(classification_report(y_test, y_pred_gnb_tuned, digits= 2, target_names=['Lose', 'Win']))"
   ]
  },
  {
   "attachments": {},
   "cell_type": "markdown",
   "metadata": {},
   "source": [
    "Our accuracy is right around 72%, which is slighly worse than our logistic regression model. Similar to the logistic regression the Gaussian Naive Bayes did a little better predicting wins than losses.\n",
    "\n",
    "Now it's time to apply our trained model just to the tournament games in our years of interest. In the following section, we predict the outcomes for each tournamnet, check our accuracy score, and return the yearly accuracy ratings in a condensed dataframe called `gnb_accuracy`"
   ]
  },
  {
   "cell_type": "code",
   "execution_count": 27,
   "metadata": {},
   "outputs": [
    {
     "data": {
      "text/html": [
       "<div>\n",
       "<style scoped>\n",
       "    .dataframe tbody tr th:only-of-type {\n",
       "        vertical-align: middle;\n",
       "    }\n",
       "\n",
       "    .dataframe tbody tr th {\n",
       "        vertical-align: top;\n",
       "    }\n",
       "\n",
       "    .dataframe thead th {\n",
       "        text-align: right;\n",
       "    }\n",
       "</style>\n",
       "<table border=\"1\" class=\"dataframe\">\n",
       "  <thead>\n",
       "    <tr style=\"text-align: right;\">\n",
       "      <th></th>\n",
       "      <th>2018</th>\n",
       "      <th>2019</th>\n",
       "      <th>2021</th>\n",
       "      <th>2022</th>\n",
       "      <th>2023</th>\n",
       "    </tr>\n",
       "  </thead>\n",
       "  <tbody>\n",
       "    <tr>\n",
       "      <th>gnb_accuracy</th>\n",
       "      <td>0.46269</td>\n",
       "      <td>0.49254</td>\n",
       "      <td>0.53030</td>\n",
       "      <td>0.46269</td>\n",
       "      <td>0.46269</td>\n",
       "    </tr>\n",
       "  </tbody>\n",
       "</table>\n",
       "</div>"
      ],
      "text/plain": [
       "                2018    2019    2021    2022    2023\n",
       "gnb_accuracy 0.46269 0.49254 0.53030 0.46269 0.46269"
      ]
     },
     "execution_count": 27,
     "metadata": {},
     "output_type": "execute_result"
    }
   ],
   "source": [
    "# predicting outcomes for each tournament year\n",
    "gnb_pred_2018 = gnb.predict(X_2018)\n",
    "gnb_pred_2019 = gnb.predict(X_2019)\n",
    "gnb_pred_2021 = gnb.predict(X_2021)\n",
    "gnb_pred_2022 = gnb.predict(X_2022)\n",
    "gnb_pred_2023 = gnb.predict(X_2023)\n",
    "\n",
    "# gathering accuracy scores for each tournament year\n",
    "gnb_accuracy_2018 = accuracy_score(y_2018, gnb_pred_2018)\n",
    "gnb_accuracy_2019 = accuracy_score(y_2019, gnb_pred_2019)\n",
    "gnb_accuracy_2021 = accuracy_score(y_2021, gnb_pred_2021)\n",
    "gnb_accuracy_2022 = accuracy_score(y_2022, gnb_pred_2022)\n",
    "gnb_accuracy_2023 = accuracy_score(y_2023, gnb_pred_2023)\n",
    "\n",
    "# condensing accuracy ratings into a dataframe\n",
    "years=['2018','2019','2021','2022','2023']\n",
    "gnb_accuracy = pd.DataFrame([[gnb_accuracy_2018,gnb_accuracy_2019,gnb_accuracy_2021,gnb_accuracy_2022,gnb_accuracy_2023]], columns=years)\n",
    "gnb_accuracy.index = ['gnb_accuracy']\n",
    "\n",
    "# print dataframe to check accuracy\n",
    "gnb_accuracy"
   ]
  },
  {
   "attachments": {},
   "cell_type": "markdown",
   "metadata": {},
   "source": [
    "The accuracy for this model is a little worse across the 5 years of interest, although, interestingly, it outperforms the logisitc regression for 2021. \n",
    "\n",
    "Again, we generate the binary clssifier and probability prediction columns that we can add onto our original dataframe for interpretability later on if needed. "
   ]
  },
  {
   "cell_type": "code",
   "execution_count": 28,
   "metadata": {},
   "outputs": [],
   "source": [
    "# format the probability predictions so they can be applied to all the original tournamnet game information for each year (for interpretability)\n",
    "gnb_pred_prob_2018 = gnb.predict_proba(X_2018)\n",
    "gnb_pred_prob_2018 = np.float64(gnb_pred_prob_2018)\n",
    "gnb_pred_prob_2019 = gnb.predict_proba(X_2019)\n",
    "gnb_pred_prob_2019 = np.float64(gnb_pred_prob_2019)\n",
    "gnb_pred_prob_2021 = gnb.predict_proba(X_2021)\n",
    "gnb_pred_prob_2021 = np.float64(gnb_pred_prob_2021)\n",
    "gnb_pred_prob_2022 = gnb.predict_proba(X_2022)\n",
    "gnb_pred_prob_2022 = np.float64(gnb_pred_prob_2022)\n",
    "gnb_pred_prob_2023 = gnb.predict_proba(X_2023)\n",
    "gnb_pred_prob_2023 = np.float64(gnb_pred_prob_2023)"
   ]
  },
  {
   "attachments": {},
   "cell_type": "markdown",
   "metadata": {},
   "source": [
    "Following the same process as we did for the logistic regression, we use the following code to get the predicted probabilities for each year using the GNB model and will use that along with our accuracy data to generate our final `gnb_matrix`."
   ]
  },
  {
   "cell_type": "code",
   "execution_count": 29,
   "metadata": {},
   "outputs": [
    {
     "data": {
      "text/html": [
       "<div>\n",
       "<style scoped>\n",
       "    .dataframe tbody tr th:only-of-type {\n",
       "        vertical-align: middle;\n",
       "    }\n",
       "\n",
       "    .dataframe tbody tr th {\n",
       "        vertical-align: top;\n",
       "    }\n",
       "\n",
       "    .dataframe thead th {\n",
       "        text-align: right;\n",
       "    }\n",
       "</style>\n",
       "<table border=\"1\" class=\"dataframe\">\n",
       "  <thead>\n",
       "    <tr style=\"text-align: right;\">\n",
       "      <th></th>\n",
       "      <th>2018</th>\n",
       "      <th>2019</th>\n",
       "      <th>2021</th>\n",
       "      <th>2022</th>\n",
       "      <th>2023</th>\n",
       "    </tr>\n",
       "  </thead>\n",
       "  <tbody>\n",
       "    <tr>\n",
       "      <th>0</th>\n",
       "      <td>1.00000</td>\n",
       "      <td>1.00000</td>\n",
       "      <td>0.00000</td>\n",
       "      <td>0.00000</td>\n",
       "      <td>0.00000</td>\n",
       "    </tr>\n",
       "    <tr>\n",
       "      <th>1</th>\n",
       "      <td>0.00000</td>\n",
       "      <td>0.00000</td>\n",
       "      <td>1.00000</td>\n",
       "      <td>0.00000</td>\n",
       "      <td>0.00000</td>\n",
       "    </tr>\n",
       "    <tr>\n",
       "      <th>2</th>\n",
       "      <td>1.00000</td>\n",
       "      <td>1.00000</td>\n",
       "      <td>1.00000</td>\n",
       "      <td>0.00000</td>\n",
       "      <td>0.00000</td>\n",
       "    </tr>\n",
       "    <tr>\n",
       "      <th>3</th>\n",
       "      <td>0.00000</td>\n",
       "      <td>0.00000</td>\n",
       "      <td>0.00000</td>\n",
       "      <td>1.00000</td>\n",
       "      <td>1.00000</td>\n",
       "    </tr>\n",
       "    <tr>\n",
       "      <th>4</th>\n",
       "      <td>0.00000</td>\n",
       "      <td>0.00000</td>\n",
       "      <td>1.00000</td>\n",
       "      <td>0.00000</td>\n",
       "      <td>0.00000</td>\n",
       "    </tr>\n",
       "    <tr>\n",
       "      <th>...</th>\n",
       "      <td>...</td>\n",
       "      <td>...</td>\n",
       "      <td>...</td>\n",
       "      <td>...</td>\n",
       "      <td>...</td>\n",
       "    </tr>\n",
       "    <tr>\n",
       "      <th>62</th>\n",
       "      <td>0.00000</td>\n",
       "      <td>0.00000</td>\n",
       "      <td>0.00000</td>\n",
       "      <td>1.00000</td>\n",
       "      <td>1.00000</td>\n",
       "    </tr>\n",
       "    <tr>\n",
       "      <th>63</th>\n",
       "      <td>1.00000</td>\n",
       "      <td>1.00000</td>\n",
       "      <td>0.00000</td>\n",
       "      <td>1.00000</td>\n",
       "      <td>1.00000</td>\n",
       "    </tr>\n",
       "    <tr>\n",
       "      <th>64</th>\n",
       "      <td>1.00000</td>\n",
       "      <td>1.00000</td>\n",
       "      <td>0.00000</td>\n",
       "      <td>1.00000</td>\n",
       "      <td>1.00000</td>\n",
       "    </tr>\n",
       "    <tr>\n",
       "      <th>65</th>\n",
       "      <td>0.00000</td>\n",
       "      <td>0.00000</td>\n",
       "      <td>0.00000</td>\n",
       "      <td>0.00000</td>\n",
       "      <td>0.00000</td>\n",
       "    </tr>\n",
       "    <tr>\n",
       "      <th>66</th>\n",
       "      <td>0.00000</td>\n",
       "      <td>0.00000</td>\n",
       "      <td>NaN</td>\n",
       "      <td>0.00000</td>\n",
       "      <td>0.00000</td>\n",
       "    </tr>\n",
       "  </tbody>\n",
       "</table>\n",
       "<p>67 rows × 5 columns</p>\n",
       "</div>"
      ],
      "text/plain": [
       "      2018    2019    2021    2022    2023\n",
       "0  1.00000 1.00000 0.00000 0.00000 0.00000\n",
       "1  0.00000 0.00000 1.00000 0.00000 0.00000\n",
       "2  1.00000 1.00000 1.00000 0.00000 0.00000\n",
       "3  0.00000 0.00000 0.00000 1.00000 1.00000\n",
       "4  0.00000 0.00000 1.00000 0.00000 0.00000\n",
       "..     ...     ...     ...     ...     ...\n",
       "62 0.00000 0.00000 0.00000 1.00000 1.00000\n",
       "63 1.00000 1.00000 0.00000 1.00000 1.00000\n",
       "64 1.00000 1.00000 0.00000 1.00000 1.00000\n",
       "65 0.00000 0.00000 0.00000 0.00000 0.00000\n",
       "66 0.00000 0.00000     NaN 0.00000 0.00000\n",
       "\n",
       "[67 rows x 5 columns]"
      ]
     },
     "execution_count": 29,
     "metadata": {},
     "output_type": "execute_result"
    }
   ],
   "source": [
    "# concatenate the predicted probability dataframes previously generated so that each year is represented\n",
    "gnb_results = pd.concat([pd.DataFrame(gnb_pred_prob_2018[:,1]), pd.DataFrame(gnb_pred_prob_2019[:,1]), \n",
    "                        pd.DataFrame(gnb_pred_prob_2021[:,1]), pd.DataFrame(gnb_pred_prob_2022[:,1]), \n",
    "                        pd.DataFrame(gnb_pred_prob_2023[:,1])], axis=1)\n",
    "\n",
    "# create headings corresponding to each year\n",
    "gnb_results = gnb_results.set_axis(['2018', '2019', '2021', '2022', '2023'], axis=1, inplace=False)\n",
    "\n",
    "# print results to check for accuracy\n",
    "gnb_results"
   ]
  },
  {
   "cell_type": "code",
   "execution_count": 30,
   "metadata": {},
   "outputs": [
    {
     "data": {
      "text/html": [
       "<div>\n",
       "<style scoped>\n",
       "    .dataframe tbody tr th:only-of-type {\n",
       "        vertical-align: middle;\n",
       "    }\n",
       "\n",
       "    .dataframe tbody tr th {\n",
       "        vertical-align: top;\n",
       "    }\n",
       "\n",
       "    .dataframe thead th {\n",
       "        text-align: right;\n",
       "    }\n",
       "</style>\n",
       "<table border=\"1\" class=\"dataframe\">\n",
       "  <thead>\n",
       "    <tr style=\"text-align: right;\">\n",
       "      <th></th>\n",
       "      <th>2018</th>\n",
       "      <th>2019</th>\n",
       "      <th>2021</th>\n",
       "      <th>2022</th>\n",
       "      <th>2023</th>\n",
       "    </tr>\n",
       "  </thead>\n",
       "  <tbody>\n",
       "    <tr>\n",
       "      <th>gnb_confidence</th>\n",
       "      <td>33.50000</td>\n",
       "      <td>33.50000</td>\n",
       "      <td>33.00000</td>\n",
       "      <td>33.50000</td>\n",
       "      <td>33.50000</td>\n",
       "    </tr>\n",
       "    <tr>\n",
       "      <th>gnb_accuracy</th>\n",
       "      <td>0.46269</td>\n",
       "      <td>0.49254</td>\n",
       "      <td>0.53030</td>\n",
       "      <td>0.46269</td>\n",
       "      <td>0.46269</td>\n",
       "    </tr>\n",
       "  </tbody>\n",
       "</table>\n",
       "</div>"
      ],
      "text/plain": [
       "                   2018     2019     2021     2022     2023\n",
       "gnb_confidence 33.50000 33.50000 33.00000 33.50000 33.50000\n",
       "gnb_accuracy    0.46269  0.49254  0.53030  0.46269  0.46269"
      ]
     },
     "execution_count": 30,
     "metadata": {},
     "output_type": "execute_result"
    }
   ],
   "source": [
    "# apply lambda function to normalize confidence predictions around 0.5\n",
    "gnb_results = gnb_results.apply(lambda x: abs(x-.5))\n",
    "gnb_confidence = gnb_results.sum().to_frame().T\n",
    "gnb_confidence.index = ['gnb_confidence']\n",
    "\n",
    "# create a matrix that takes the confidence and accuracy dataframes created previously to make one matrix holding the results for gassian naive bayes\n",
    "gnb_matrix = pd.concat([gnb_confidence,gnb_accuracy],axis=0)\n",
    "gnb_matrix"
   ]
  },
  {
   "attachments": {},
   "cell_type": "markdown",
   "metadata": {},
   "source": [
    "### Random Forest Classifier"
   ]
  },
  {
   "attachments": {},
   "cell_type": "markdown",
   "metadata": {},
   "source": [
    "Our third model is a Random Forest Classifier - here we start by initializing the model."
   ]
  },
  {
   "cell_type": "code",
   "execution_count": 38,
   "metadata": {},
   "outputs": [
    {
     "name": "stdout",
     "output_type": "stream",
     "text": [
      "------ TRAIN ----------\n",
      "0.9123629712377702\n",
      "------ TEST ----------\n",
      "0.6780216542682478\n"
     ]
    }
   ],
   "source": [
    "rf = RandomForestClassifier(random_state=seed)\n",
    "rf.fit(X_train, y_train)\n",
    "\n",
    "print(\"------ TRAIN ----------\")\n",
    "print(rf.score(X_train, y_train))\n",
    "print(\"------ TEST ----------\")\n",
    "print(rf.score(X_test, y_test))"
   ]
  },
  {
   "attachments": {},
   "cell_type": "markdown",
   "metadata": {},
   "source": [
    "The random forest classifier does really well on our training dataset (91.2%), but it looks like its overfitting as it doesn't generalize well to our unseen test data (only 67.8%).\n",
    "\n",
    "Next, we'll generate a classification report to see if the model has a hard time predicting a particular class."
   ]
  },
  {
   "cell_type": "code",
   "execution_count": 32,
   "metadata": {},
   "outputs": [
    {
     "name": "stdout",
     "output_type": "stream",
     "text": [
      "              precision    recall  f1-score   support\n",
      "\n",
      "        Lose       0.67      0.66      0.67     13239\n",
      "         Win       0.68      0.70      0.69     13915\n",
      "\n",
      "    accuracy                           0.68     27154\n",
      "   macro avg       0.68      0.68      0.68     27154\n",
      "weighted avg       0.68      0.68      0.68     27154\n",
      "\n"
     ]
    }
   ],
   "source": [
    "print(classification_report(y_test, rf.predict(X_test),target_names=[\"Lose\",\"Win\"]))"
   ]
  },
  {
   "attachments": {},
   "cell_type": "markdown",
   "metadata": {},
   "source": [
    "It looks like, initially, the random forest is doing similarly to our other models in that it has a harder time accurately predicting loses rather than wins.  Our next step will be to tune the hyperparameters to see if we can improve on our initial results."
   ]
  },
  {
   "cell_type": "code",
   "execution_count": 35,
   "metadata": {},
   "outputs": [
    {
     "name": "stdout",
     "output_type": "stream",
     "text": [
      "------ Best Parameters  ----------\n",
      "{'max_depth': 10, 'max_features': 'sqrt', 'n_estimators': 600}\n",
      "------ Best Model Train Accuracy ----------\n",
      "0.748394937454733\n",
      "------ Best Model Test Accuracy ----------\n",
      "0.720004419238418\n"
     ]
    }
   ],
   "source": [
    "# commented out to reduce compute time for code\n",
    "# rf = RandomForestClassifier(random_state=seed)\n",
    "parameters = {'max_depth': [10,30,50], \n",
    "              'n_estimators': [300,400,500,600],\n",
    "              'max_features': ('sqrt','log2')\n",
    "             }\n",
    "rf_tuned = GridSearchCV(rf, parameters, cv=10)\n",
    "rf_tuned.fit(X_train, y_train)\n",
    "print(\"------ Best Parameters  ----------\")\n",
    "print(rf_tuned.best_params_)\n",
    "print(\"------ Best Model Train Accuracy ----------\")\n",
    "print(rf_tuned.score(X_train, y_train))\n",
    "print(\"------ Best Model Test Accuracy ----------\")\n",
    "print(rf_tuned.score(X_test, y_test))"
   ]
  },
  {
   "attachments": {},
   "cell_type": "markdown",
   "metadata": {},
   "source": [
    "Our ideal max_depth outcome was 10, our ideal max_features outcome was sqrt, and our ideal n_estimators outcome was 600, so we follow our process and apply that to our random forest model and use it to generate our predictions on the test data - the tuned hyperparameters don't seem to make an impact on accuracy."
   ]
  },
  {
   "cell_type": "code",
   "execution_count": 37,
   "metadata": {},
   "outputs": [
    {
     "name": "stdout",
     "output_type": "stream",
     "text": [
      "Accuracy: 0.720004419238418\n"
     ]
    }
   ],
   "source": [
    "rf_tuned = RandomForestClassifier(random_state=seed, max_depth=10, max_features='sqrt', n_estimators=600)\n",
    "rf_tuned.fit(X_train, y_train)\n",
    "y_pred_rf_tuned = rf_tuned.predict(X_test)\n",
    "print(\"Accuracy:\",rf_tuned.score(X_test, y_test))"
   ]
  },
  {
   "attachments": {},
   "cell_type": "markdown",
   "metadata": {},
   "source": [
    "Next, we'll generate a confusion matrix to see if the model has a hard time predicting a particular class."
   ]
  },
  {
   "cell_type": "code",
   "execution_count": 39,
   "metadata": {},
   "outputs": [
    {
     "data": {
      "text/plain": [
       "<sklearn.metrics._plot.confusion_matrix.ConfusionMatrixDisplay at 0x7ff0b96a6ee0>"
      ]
     },
     "execution_count": 39,
     "metadata": {},
     "output_type": "execute_result"
    },
    {
     "data": {
      "image/png": "[encoded data removed]",
      "text/plain": [
       "<Figure size 640x480 with 2 Axes>"
      ]
     },
     "metadata": {},
     "output_type": "display_data"
    }
   ],
   "source": [
    "# Calculating the confusion matrix for the Random Forest tuned\n",
    "cm_rf_tuned = confusion_matrix(y_test, y_pred_rf_tuned)\n",
    "\n",
    "# Creating a ConfusionMatrixDisplay object \n",
    "display_cm_rf_tuned = ConfusionMatrixDisplay(confusion_matrix=cm_rf_tuned, display_labels=['Lose', 'Win'])\n",
    "\n",
    "# Plotting the confusion matrix using ConfusionMatrixDisplay object\n",
    "display_cm_rf_tuned.plot(cmap='Blues')"
   ]
  },
  {
   "cell_type": "code",
   "execution_count": 40,
   "metadata": {},
   "outputs": [
    {
     "name": "stdout",
     "output_type": "stream",
     "text": [
      "              precision    recall  f1-score   support\n",
      "\n",
      "        Lose       0.72      0.70      0.71     13239\n",
      "         Win       0.72      0.74      0.73     13915\n",
      "\n",
      "    accuracy                           0.72     27154\n",
      "   macro avg       0.72      0.72      0.72     27154\n",
      "weighted avg       0.72      0.72      0.72     27154\n",
      "\n"
     ]
    }
   ],
   "source": [
    "print(classification_report(y_test, y_pred_rf_tuned, digits= 2, target_names=['Lose', 'Win']))"
   ]
  },
  {
   "attachments": {},
   "cell_type": "markdown",
   "metadata": {},
   "source": [
    "Our accuracy is right around 72%, which is slighly worse than our logistic regression model and about the same as our Gaussian Naive Bayes model. The random forest does a little more evenly than the other two models when it comes to predicting wins and losses. \n",
    "\n",
    "Now it's time to apply our trained model just to the tournament games in our years of interest. In the following section, we predict the outcomes for each tournamnet, check our accuracy score, and return the yearly accuracy ratings in a condensed dataframe called `rf_accuracy`"
   ]
  },
  {
   "cell_type": "code",
   "execution_count": 41,
   "metadata": {},
   "outputs": [
    {
     "data": {
      "text/html": [
       "<div>\n",
       "<style scoped>\n",
       "    .dataframe tbody tr th:only-of-type {\n",
       "        vertical-align: middle;\n",
       "    }\n",
       "\n",
       "    .dataframe tbody tr th {\n",
       "        vertical-align: top;\n",
       "    }\n",
       "\n",
       "    .dataframe thead th {\n",
       "        text-align: right;\n",
       "    }\n",
       "</style>\n",
       "<table border=\"1\" class=\"dataframe\">\n",
       "  <thead>\n",
       "    <tr style=\"text-align: right;\">\n",
       "      <th></th>\n",
       "      <th>2018</th>\n",
       "      <th>2019</th>\n",
       "      <th>2021</th>\n",
       "      <th>2022</th>\n",
       "      <th>2023</th>\n",
       "    </tr>\n",
       "  </thead>\n",
       "  <tbody>\n",
       "    <tr>\n",
       "      <th>rf_accuracy</th>\n",
       "      <td>0.46269</td>\n",
       "      <td>0.43284</td>\n",
       "      <td>0.48485</td>\n",
       "      <td>0.47761</td>\n",
       "      <td>0.47761</td>\n",
       "    </tr>\n",
       "  </tbody>\n",
       "</table>\n",
       "</div>"
      ],
      "text/plain": [
       "               2018    2019    2021    2022    2023\n",
       "rf_accuracy 0.46269 0.43284 0.48485 0.47761 0.47761"
      ]
     },
     "execution_count": 41,
     "metadata": {},
     "output_type": "execute_result"
    }
   ],
   "source": [
    "rf_pred_2018 = rf_tuned.predict(X_2018)\n",
    "rf_pred_2019 = rf_tuned.predict(X_2019)\n",
    "rf_pred_2021 = rf_tuned.predict(X_2021)\n",
    "rf_pred_2022 = rf_tuned.predict(X_2022)\n",
    "rf_pred_2023 = rf_tuned.predict(X_2023)\n",
    "\n",
    "rf_accuracy_2018 = accuracy_score(y_2018, rf_pred_2018)\n",
    "rf_accuracy_2019 = accuracy_score(y_2019, rf_pred_2019)\n",
    "rf_accuracy_2021 = accuracy_score(y_2021, rf_pred_2021)\n",
    "rf_accuracy_2022 = accuracy_score(y_2022, rf_pred_2022)\n",
    "rf_accuracy_2023 = accuracy_score(y_2023, rf_pred_2023)\n",
    "\n",
    "years=['2018','2019','2021','2022','2023']\n",
    "rf_accuracy = pd.DataFrame([[rf_accuracy_2018,rf_accuracy_2019,rf_accuracy_2021,rf_accuracy_2022,rf_accuracy_2023]], columns=years)\n",
    "rf_accuracy.index = ['rf_accuracy']\n",
    "rf_accuracy"
   ]
  },
  {
   "attachments": {},
   "cell_type": "markdown",
   "metadata": {},
   "source": [
    "The accuracy for this model is a little worse than the GNB for the first three years but does a little better in the 2022 and 2023 seasons. The accuracy is still pretty low though. \n",
    "\n",
    "Again, we generate the binary clssifier and probability prediction columns that we can add onto our original dataframe for interpretability later on if needed. "
   ]
  },
  {
   "cell_type": "code",
   "execution_count": 42,
   "metadata": {},
   "outputs": [],
   "source": [
    "rf_pred_prob_2018 = rf_tuned.predict_proba(X_2018)\n",
    "rf_pred_prob_2018 = np.float64(rf_pred_prob_2018)\n",
    "rf_pred_prob_2019 = rf_tuned.predict_proba(X_2019)\n",
    "rf_pred_prob_2019 = np.float64(rf_pred_prob_2019)\n",
    "rf_pred_prob_2021 = rf_tuned.predict_proba(X_2021)\n",
    "rf_pred_prob_2021 = np.float64(rf_pred_prob_2021)\n",
    "rf_pred_prob_2022 = rf_tuned.predict_proba(X_2022)\n",
    "rf_pred_prob_2022 = np.float64(rf_pred_prob_2022)\n",
    "rf_pred_prob_2023 = rf_tuned.predict_proba(X_2023)\n",
    "rf_pred_prob_2023 = np.float64(rf_pred_prob_2023)"
   ]
  },
  {
   "attachments": {},
   "cell_type": "markdown",
   "metadata": {},
   "source": [
    "Following the same process as we did for the logistic regression, we use the following code to get the predicted probabilities for each year using the Random Forest model and will use that along with our accuracy data to generate our final `rf_matrix`."
   ]
  },
  {
   "cell_type": "code",
   "execution_count": 43,
   "metadata": {},
   "outputs": [
    {
     "data": {
      "text/html": [
       "<div>\n",
       "<style scoped>\n",
       "    .dataframe tbody tr th:only-of-type {\n",
       "        vertical-align: middle;\n",
       "    }\n",
       "\n",
       "    .dataframe tbody tr th {\n",
       "        vertical-align: top;\n",
       "    }\n",
       "\n",
       "    .dataframe thead th {\n",
       "        text-align: right;\n",
       "    }\n",
       "</style>\n",
       "<table border=\"1\" class=\"dataframe\">\n",
       "  <thead>\n",
       "    <tr style=\"text-align: right;\">\n",
       "      <th></th>\n",
       "      <th>2018</th>\n",
       "      <th>2019</th>\n",
       "      <th>2021</th>\n",
       "      <th>2022</th>\n",
       "      <th>2023</th>\n",
       "    </tr>\n",
       "  </thead>\n",
       "  <tbody>\n",
       "    <tr>\n",
       "      <th>0</th>\n",
       "      <td>0.46815</td>\n",
       "      <td>0.46815</td>\n",
       "      <td>0.46815</td>\n",
       "      <td>0.46805</td>\n",
       "      <td>0.46805</td>\n",
       "    </tr>\n",
       "    <tr>\n",
       "      <th>1</th>\n",
       "      <td>0.46334</td>\n",
       "      <td>0.46334</td>\n",
       "      <td>0.46815</td>\n",
       "      <td>0.47791</td>\n",
       "      <td>0.47791</td>\n",
       "    </tr>\n",
       "    <tr>\n",
       "      <th>2</th>\n",
       "      <td>0.46698</td>\n",
       "      <td>0.46698</td>\n",
       "      <td>0.46698</td>\n",
       "      <td>0.47791</td>\n",
       "      <td>0.47791</td>\n",
       "    </tr>\n",
       "    <tr>\n",
       "      <th>3</th>\n",
       "      <td>0.46815</td>\n",
       "      <td>0.46815</td>\n",
       "      <td>0.46698</td>\n",
       "      <td>0.46698</td>\n",
       "      <td>0.46698</td>\n",
       "    </tr>\n",
       "    <tr>\n",
       "      <th>4</th>\n",
       "      <td>0.46698</td>\n",
       "      <td>0.46698</td>\n",
       "      <td>0.46698</td>\n",
       "      <td>0.46805</td>\n",
       "      <td>0.46805</td>\n",
       "    </tr>\n",
       "    <tr>\n",
       "      <th>...</th>\n",
       "      <td>...</td>\n",
       "      <td>...</td>\n",
       "      <td>...</td>\n",
       "      <td>...</td>\n",
       "      <td>...</td>\n",
       "    </tr>\n",
       "    <tr>\n",
       "      <th>62</th>\n",
       "      <td>0.46698</td>\n",
       "      <td>0.46698</td>\n",
       "      <td>0.45373</td>\n",
       "      <td>0.46698</td>\n",
       "      <td>0.46698</td>\n",
       "    </tr>\n",
       "    <tr>\n",
       "      <th>63</th>\n",
       "      <td>0.46963</td>\n",
       "      <td>0.46963</td>\n",
       "      <td>0.46815</td>\n",
       "      <td>0.46698</td>\n",
       "      <td>0.46698</td>\n",
       "    </tr>\n",
       "    <tr>\n",
       "      <th>64</th>\n",
       "      <td>0.46963</td>\n",
       "      <td>0.46963</td>\n",
       "      <td>0.46698</td>\n",
       "      <td>0.46805</td>\n",
       "      <td>0.46805</td>\n",
       "    </tr>\n",
       "    <tr>\n",
       "      <th>65</th>\n",
       "      <td>0.47791</td>\n",
       "      <td>0.47791</td>\n",
       "      <td>0.46698</td>\n",
       "      <td>0.46698</td>\n",
       "      <td>0.46698</td>\n",
       "    </tr>\n",
       "    <tr>\n",
       "      <th>66</th>\n",
       "      <td>0.47080</td>\n",
       "      <td>0.47080</td>\n",
       "      <td>NaN</td>\n",
       "      <td>0.46698</td>\n",
       "      <td>0.46698</td>\n",
       "    </tr>\n",
       "  </tbody>\n",
       "</table>\n",
       "<p>67 rows × 5 columns</p>\n",
       "</div>"
      ],
      "text/plain": [
       "      2018    2019    2021    2022    2023\n",
       "0  0.46815 0.46815 0.46815 0.46805 0.46805\n",
       "1  0.46334 0.46334 0.46815 0.47791 0.47791\n",
       "2  0.46698 0.46698 0.46698 0.47791 0.47791\n",
       "3  0.46815 0.46815 0.46698 0.46698 0.46698\n",
       "4  0.46698 0.46698 0.46698 0.46805 0.46805\n",
       "..     ...     ...     ...     ...     ...\n",
       "62 0.46698 0.46698 0.45373 0.46698 0.46698\n",
       "63 0.46963 0.46963 0.46815 0.46698 0.46698\n",
       "64 0.46963 0.46963 0.46698 0.46805 0.46805\n",
       "65 0.47791 0.47791 0.46698 0.46698 0.46698\n",
       "66 0.47080 0.47080     NaN 0.46698 0.46698\n",
       "\n",
       "[67 rows x 5 columns]"
      ]
     },
     "execution_count": 43,
     "metadata": {},
     "output_type": "execute_result"
    }
   ],
   "source": [
    "rf_results = pd.concat([pd.DataFrame(rf_pred_prob_2018[:,1]), pd.DataFrame(rf_pred_prob_2019[:,1]), \n",
    "                        pd.DataFrame(rf_pred_prob_2021[:,1]), pd.DataFrame(rf_pred_prob_2022[:,1]), \n",
    "                        pd.DataFrame(rf_pred_prob_2023[:,1])], axis=1)\n",
    "\n",
    "rf_results = rf_results.set_axis(['2018', '2019', '2021', '2022', '2023'], axis=1, inplace=False)\n",
    "\n",
    "rf_results"
   ]
  },
  {
   "cell_type": "code",
   "execution_count": 44,
   "metadata": {},
   "outputs": [
    {
     "data": {
      "text/html": [
       "<div>\n",
       "<style scoped>\n",
       "    .dataframe tbody tr th:only-of-type {\n",
       "        vertical-align: middle;\n",
       "    }\n",
       "\n",
       "    .dataframe tbody tr th {\n",
       "        vertical-align: top;\n",
       "    }\n",
       "\n",
       "    .dataframe thead th {\n",
       "        text-align: right;\n",
       "    }\n",
       "</style>\n",
       "<table border=\"1\" class=\"dataframe\">\n",
       "  <thead>\n",
       "    <tr style=\"text-align: right;\">\n",
       "      <th></th>\n",
       "      <th>2018</th>\n",
       "      <th>2019</th>\n",
       "      <th>2021</th>\n",
       "      <th>2022</th>\n",
       "      <th>2023</th>\n",
       "    </tr>\n",
       "  </thead>\n",
       "  <tbody>\n",
       "    <tr>\n",
       "      <th>rf_confidence</th>\n",
       "      <td>2.07375</td>\n",
       "      <td>2.07375</td>\n",
       "      <td>2.13100</td>\n",
       "      <td>2.09297</td>\n",
       "      <td>2.09297</td>\n",
       "    </tr>\n",
       "    <tr>\n",
       "      <th>rf_accuracy</th>\n",
       "      <td>0.46269</td>\n",
       "      <td>0.43284</td>\n",
       "      <td>0.48485</td>\n",
       "      <td>0.47761</td>\n",
       "      <td>0.47761</td>\n",
       "    </tr>\n",
       "  </tbody>\n",
       "</table>\n",
       "</div>"
      ],
      "text/plain": [
       "                 2018    2019    2021    2022    2023\n",
       "rf_confidence 2.07375 2.07375 2.13100 2.09297 2.09297\n",
       "rf_accuracy   0.46269 0.43284 0.48485 0.47761 0.47761"
      ]
     },
     "execution_count": 44,
     "metadata": {},
     "output_type": "execute_result"
    }
   ],
   "source": [
    "rf_results = rf_results.apply(lambda x: abs(x-.5))\n",
    "rf_confidence = rf_results.sum().to_frame().T\n",
    "rf_confidence.index = ['rf_confidence']\n",
    "\n",
    "rf_matrix = pd.concat([rf_confidence,rf_accuracy],axis=0)\n",
    "rf_matrix"
   ]
  },
  {
   "attachments": {},
   "cell_type": "markdown",
   "metadata": {},
   "source": [
    "As a final step in our random forest model process, we want to take a look at which features were most important, and we get some very interesting results!  We went out of our way to include Road_Wins as a feature because we thought it might be important to success in a tournament atmosphere where there are no \"home games,\" and it turns out that we were onto something.  Also of note, seed seems to carry a lot of weight, which translates to what we see in our brackets as the model predicts the 2023 outcomes in question 1. Other features like FG%, PPG, and Assists turned out to be meaningful as well."
   ]
  },
  {
   "cell_type": "code",
   "execution_count": 45,
   "metadata": {},
   "outputs": [
    {
     "data": {
      "text/plain": [
       "Text(0, 0.5, 'Feature Names')"
      ]
     },
     "execution_count": 45,
     "metadata": {},
     "output_type": "execute_result"
    },
    {
     "data": {
      "image/png": "[encoded data removed]",
      "text/plain": [
       "<Figure size 800x500 with 1 Axes>"
      ]
     },
     "metadata": {},
     "output_type": "display_data"
    }
   ],
   "source": [
    "feature_names = X.columns\n",
    "labels = [\"Lose\",\"Win\"]\n",
    "\n",
    "#getting feature importances\n",
    "fimp = rf_tuned.feature_importances_\n",
    "\n",
    "#putting them into dataframe\n",
    "fimp = pd.DataFrame({'Features':feature_names,'Importance':np.array(rf_tuned.feature_importances_)})\n",
    "fimp.sort_values(by=['Importance'], ascending=False,inplace=True)\n",
    "\n",
    "#plotting feature importances (for the whole tree!)\n",
    "plt.figure(figsize=(8,5))\n",
    "sns.barplot(x='Importance', y='Features',data=fimp)\n",
    "\n",
    "plt.title('Feature Importance')\n",
    "plt.xlabel('Feature Importance')\n",
    "plt.ylabel('Feature Names')"
   ]
  },
  {
   "attachments": {},
   "cell_type": "markdown",
   "metadata": {},
   "source": [
    "### Support Vector Machine Classifier"
   ]
  },
  {
   "attachments": {},
   "cell_type": "markdown",
   "metadata": {},
   "source": [
    "Our final model is a Support Vector Machine Classifier - here we start by initializing the model."
   ]
  },
  {
   "cell_type": "code",
   "execution_count": 46,
   "metadata": {},
   "outputs": [
    {
     "name": "stdout",
     "output_type": "stream",
     "text": [
      "------ TRAIN ----------\n",
      "0.7547169811320755\n",
      "------ TEST ----------\n",
      "0.7286219341533475\n"
     ]
    }
   ],
   "source": [
    "svm = SVC(random_state=seed)\n",
    "\n",
    "# commented out to reduce compute time\n",
    "svm.fit(X_train, y_train)\n",
    "\n",
    "print(\"------ TRAIN ----------\")\n",
    "print(svm.score(X_train, y_train))\n",
    "print(\"------ TEST ----------\")\n",
    "print(svm.score(X_test, y_test))"
   ]
  },
  {
   "attachments": {},
   "cell_type": "markdown",
   "metadata": {},
   "source": [
    "The support vector machine classifier starts out with a strong performance on both our training and testing data!  This is the best start we've seen since the initial 73.1% accuracy rating we got from the logistic regression.\n",
    "\n",
    "Next, we'll generate a classification report to see if the model has a hard time predicting a particular class."
   ]
  },
  {
   "cell_type": "code",
   "execution_count": 47,
   "metadata": {},
   "outputs": [
    {
     "name": "stdout",
     "output_type": "stream",
     "text": [
      "              precision    recall  f1-score   support\n",
      "\n",
      "        Lose       0.73      0.71      0.72     13239\n",
      "         Win       0.73      0.75      0.74     13915\n",
      "\n",
      "    accuracy                           0.73     27154\n",
      "   macro avg       0.73      0.73      0.73     27154\n",
      "weighted avg       0.73      0.73      0.73     27154\n",
      "\n"
     ]
    }
   ],
   "source": [
    "print(classification_report(y_test, svm.predict(X_test),target_names=[\"Lose\",\"Win\"]))"
   ]
  },
  {
   "attachments": {},
   "cell_type": "markdown",
   "metadata": {},
   "source": [
    "The SVC is pretty balanced when it comes to predicting wins and losses, similar to our random forest performance. The next step is to tune the hyperparameters, and this particular step gave us a lot of trouble when training the model. When attempting to tune 2-3 values for 'gamma', 'C', and 'kernel', the GridSearchCV ran for a total of ~2400 minutes before we gave up and attempted to scale down the parameters. Even scaling down proved ineffective, as the tuning still took another 800 minute and one more 300 minute iteration without completing the search.\n",
    "\n",
    "We settled on doing a bare-minimum hyperparameter tuning to meet the timeline of the project, and picked to decide between two values of gamma that were outside the default value of 1. By testing 0.1 and 10, we were able to test and see if a more complex decision boundary (which risks of overfitting), or a smoother decision boundary (which risks underfitting) does better for our data. If we had more time and were more aware of how computationally expensive tuning hyperparameters for the SVC is, we could've done more extensive tuning. \n",
    "\n",
    "As it turns out, the model test accuracy did worse than our initial model with default settings when it came to test accuracy, so we refrained from using the tested parameters from gamma and stuck with the default value of 1 instead."
   ]
  },
  {
   "cell_type": "code",
   "execution_count": 48,
   "metadata": {},
   "outputs": [
    {
     "name": "stdout",
     "output_type": "stream",
     "text": [
      "------ Best Parameters  ----------\n",
      "{'gamma': 0.1}\n",
      "------ Best Model Train Accuracy ----------\n",
      "0.8447109659837223\n",
      "------ Best Model Test Accuracy ----------\n",
      "0.706709876997864\n"
     ]
    }
   ],
   "source": [
    "svm = SVC(random_state=seed)\n",
    "parameters = {'gamma': [0.1, 10]}\n",
    "svm_tuned = GridSearchCV(svm, parameters, cv=5)\n",
    "svm_tuned.fit(X_train, y_train)\n",
    "print(\"------ Best Parameters  ----------\")\n",
    "print(svm_tuned.best_params_)\n",
    "print(\"------ Best Model Train Accuracy ----------\")\n",
    "print(svm_tuned.score(X_train, y_train))\n",
    "print(\"------ Best Model Test Accuracy ----------\")\n",
    "print(svm_tuned.score(X_test, y_test))"
   ]
  },
  {
   "cell_type": "code",
   "execution_count": 70,
   "metadata": {},
   "outputs": [
    {
     "name": "stdout",
     "output_type": "stream",
     "text": [
      "Accuracy: 0.7286219341533475\n"
     ]
    }
   ],
   "source": [
    "svc_tuned = SVC(random_state=seed, probability=True)\n",
    "svc_tuned.fit(X_train, y_train)\n",
    "y_pred_svc_tuned = svc_tuned.predict(X_test)\n",
    "print(\"Accuracy:\",svc_tuned.score(X_test, y_test))"
   ]
  },
  {
   "attachments": {},
   "cell_type": "markdown",
   "metadata": {},
   "source": [
    "Next, we'll generate a confusion matrix because we didn't do it in the previous step, but the classification report should stay the same, as we didn't use our tuned hyperparameters."
   ]
  },
  {
   "cell_type": "code",
   "execution_count": 71,
   "metadata": {},
   "outputs": [
    {
     "data": {
      "text/plain": [
       "<sklearn.metrics._plot.confusion_matrix.ConfusionMatrixDisplay at 0x7ff0ea525460>"
      ]
     },
     "execution_count": 71,
     "metadata": {},
     "output_type": "execute_result"
    },
    {
     "data": {
      "image/png": "[encoded data removed]",
      "text/plain": [
       "<Figure size 640x480 with 2 Axes>"
      ]
     },
     "metadata": {},
     "output_type": "display_data"
    }
   ],
   "source": [
    "# Calculating the confusion matrix for the SVC tuned\n",
    "cm_svc_tuned = confusion_matrix(y_test, y_pred_svc_tuned)\n",
    "\n",
    "# Creating a ConfusionMatrixDisplay object \n",
    "display_cm_svc_tuned = ConfusionMatrixDisplay(confusion_matrix=cm_svc_tuned, display_labels=['Lose', 'Win'])\n",
    "\n",
    "# Plotting the confusion matrix using ConfusionMatrixDisplay object\n",
    "display_cm_svc_tuned.plot(cmap='Blues')"
   ]
  },
  {
   "attachments": {},
   "cell_type": "markdown",
   "metadata": {},
   "source": [
    "Now it's time to apply our trained model just to the tournament games in our years of interest. In the following section, we predict the outcomes for each tournamnet, check our accuracy score, and return the yearly accuracy ratings in a condensed dataframe called `svc_accuracy`"
   ]
  },
  {
   "cell_type": "code",
   "execution_count": 73,
   "metadata": {},
   "outputs": [
    {
     "data": {
      "text/html": [
       "<div>\n",
       "<style scoped>\n",
       "    .dataframe tbody tr th:only-of-type {\n",
       "        vertical-align: middle;\n",
       "    }\n",
       "\n",
       "    .dataframe tbody tr th {\n",
       "        vertical-align: top;\n",
       "    }\n",
       "\n",
       "    .dataframe thead th {\n",
       "        text-align: right;\n",
       "    }\n",
       "</style>\n",
       "<table border=\"1\" class=\"dataframe\">\n",
       "  <thead>\n",
       "    <tr style=\"text-align: right;\">\n",
       "      <th></th>\n",
       "      <th>2018</th>\n",
       "      <th>2019</th>\n",
       "      <th>2021</th>\n",
       "      <th>2022</th>\n",
       "      <th>2023</th>\n",
       "    </tr>\n",
       "  </thead>\n",
       "  <tbody>\n",
       "    <tr>\n",
       "      <th>svc_accuracy</th>\n",
       "      <td>0.46269</td>\n",
       "      <td>0.43284</td>\n",
       "      <td>0.48485</td>\n",
       "      <td>0.47761</td>\n",
       "      <td>0.47761</td>\n",
       "    </tr>\n",
       "  </tbody>\n",
       "</table>\n",
       "</div>"
      ],
      "text/plain": [
       "                2018    2019    2021    2022    2023\n",
       "svc_accuracy 0.46269 0.43284 0.48485 0.47761 0.47761"
      ]
     },
     "execution_count": 73,
     "metadata": {},
     "output_type": "execute_result"
    }
   ],
   "source": [
    "svc_pred_2018 = svc_tuned.predict(X_2018)\n",
    "svc_pred_2019 = svc_tuned.predict(X_2019)\n",
    "svc_pred_2021 = svc_tuned.predict(X_2021)\n",
    "svc_pred_2022 = svc_tuned.predict(X_2022)\n",
    "svc_pred_2023 = svc_tuned.predict(X_2023)\n",
    "\n",
    "svc_accuracy_2018 = accuracy_score(y_2018, svc_pred_2018)\n",
    "svc_accuracy_2019 = accuracy_score(y_2019, svc_pred_2019)\n",
    "svc_accuracy_2021 = accuracy_score(y_2021, svc_pred_2021)\n",
    "svc_accuracy_2022 = accuracy_score(y_2022, svc_pred_2022)\n",
    "svc_accuracy_2023 = accuracy_score(y_2023, svc_pred_2023)\n",
    "\n",
    "years=['2018','2019','2021','2022','2023']\n",
    "svc_accuracy = pd.DataFrame([[svc_accuracy_2018,svc_accuracy_2019,svc_accuracy_2021,svc_accuracy_2022,svc_accuracy_2023]], columns=years)\n",
    "svc_accuracy.index = ['svc_accuracy']\n",
    "svc_accuracy"
   ]
  },
  {
   "attachments": {},
   "cell_type": "markdown",
   "metadata": {},
   "source": [
    "The accuracy for this model is nearly identical to the random forest model and still lower than we would like to see.  \n",
    "\n",
    "Again, we generate the binary clssifier and probability prediction columns that we can add onto our original dataframe for interpretability later on if needed. "
   ]
  },
  {
   "cell_type": "code",
   "execution_count": 74,
   "metadata": {},
   "outputs": [],
   "source": [
    "svc_pred_prob_2018 = svc_tuned.predict_proba(X_2018)\n",
    "svc_pred_prob_2018 = np.float64(svc_pred_prob_2018)\n",
    "svc_pred_prob_2019 = svc_tuned.predict_proba(X_2019)\n",
    "svc_pred_prob_2019 = np.float64(svc_pred_prob_2019)\n",
    "svc_pred_prob_2021 = svc_tuned.predict_proba(X_2021)\n",
    "svc_pred_prob_2021 = np.float64(svc_pred_prob_2021)\n",
    "svc_pred_prob_2022 = svc_tuned.predict_proba(X_2022)\n",
    "svc_pred_prob_2022 = np.float64(svc_pred_prob_2022)\n",
    "svc_pred_prob_2023 = svc_tuned.predict_proba(X_2023)\n",
    "svc_pred_prob_2023 = np.float64(svc_pred_prob_2023)"
   ]
  },
  {
   "attachments": {},
   "cell_type": "markdown",
   "metadata": {},
   "source": [
    "An issue we ran into here was that when we went to predict the probabiliites to get confidence intervals, the SVC classifier did not offer any probabilities that deviated from .5, making it a poor fit for our question. Our confidence rating for this model will therefore be 0, or an indvalid/uninterpretable result."
   ]
  },
  {
   "cell_type": "code",
   "execution_count": 75,
   "metadata": {},
   "outputs": [
    {
     "data": {
      "text/html": [
       "<div>\n",
       "<style scoped>\n",
       "    .dataframe tbody tr th:only-of-type {\n",
       "        vertical-align: middle;\n",
       "    }\n",
       "\n",
       "    .dataframe tbody tr th {\n",
       "        vertical-align: top;\n",
       "    }\n",
       "\n",
       "    .dataframe thead th {\n",
       "        text-align: right;\n",
       "    }\n",
       "</style>\n",
       "<table border=\"1\" class=\"dataframe\">\n",
       "  <thead>\n",
       "    <tr style=\"text-align: right;\">\n",
       "      <th></th>\n",
       "      <th>2018</th>\n",
       "      <th>2019</th>\n",
       "      <th>2021</th>\n",
       "      <th>2022</th>\n",
       "      <th>2023</th>\n",
       "    </tr>\n",
       "  </thead>\n",
       "  <tbody>\n",
       "    <tr>\n",
       "      <th>0</th>\n",
       "      <td>0.50000</td>\n",
       "      <td>0.50000</td>\n",
       "      <td>0.50000</td>\n",
       "      <td>0.50000</td>\n",
       "      <td>0.50000</td>\n",
       "    </tr>\n",
       "    <tr>\n",
       "      <th>1</th>\n",
       "      <td>0.50000</td>\n",
       "      <td>0.50000</td>\n",
       "      <td>0.50000</td>\n",
       "      <td>0.50000</td>\n",
       "      <td>0.50000</td>\n",
       "    </tr>\n",
       "    <tr>\n",
       "      <th>2</th>\n",
       "      <td>0.50000</td>\n",
       "      <td>0.50000</td>\n",
       "      <td>0.50000</td>\n",
       "      <td>0.50000</td>\n",
       "      <td>0.50000</td>\n",
       "    </tr>\n",
       "    <tr>\n",
       "      <th>3</th>\n",
       "      <td>0.50000</td>\n",
       "      <td>0.50000</td>\n",
       "      <td>0.50000</td>\n",
       "      <td>0.50000</td>\n",
       "      <td>0.50000</td>\n",
       "    </tr>\n",
       "    <tr>\n",
       "      <th>4</th>\n",
       "      <td>0.50000</td>\n",
       "      <td>0.50000</td>\n",
       "      <td>0.50000</td>\n",
       "      <td>0.50000</td>\n",
       "      <td>0.50000</td>\n",
       "    </tr>\n",
       "    <tr>\n",
       "      <th>...</th>\n",
       "      <td>...</td>\n",
       "      <td>...</td>\n",
       "      <td>...</td>\n",
       "      <td>...</td>\n",
       "      <td>...</td>\n",
       "    </tr>\n",
       "    <tr>\n",
       "      <th>62</th>\n",
       "      <td>0.50000</td>\n",
       "      <td>0.50000</td>\n",
       "      <td>0.50000</td>\n",
       "      <td>0.50000</td>\n",
       "      <td>0.50000</td>\n",
       "    </tr>\n",
       "    <tr>\n",
       "      <th>63</th>\n",
       "      <td>0.50000</td>\n",
       "      <td>0.50000</td>\n",
       "      <td>0.50000</td>\n",
       "      <td>0.50000</td>\n",
       "      <td>0.50000</td>\n",
       "    </tr>\n",
       "    <tr>\n",
       "      <th>64</th>\n",
       "      <td>0.50000</td>\n",
       "      <td>0.50000</td>\n",
       "      <td>0.50000</td>\n",
       "      <td>0.50000</td>\n",
       "      <td>0.50000</td>\n",
       "    </tr>\n",
       "    <tr>\n",
       "      <th>65</th>\n",
       "      <td>0.50000</td>\n",
       "      <td>0.50000</td>\n",
       "      <td>0.50000</td>\n",
       "      <td>0.50000</td>\n",
       "      <td>0.50000</td>\n",
       "    </tr>\n",
       "    <tr>\n",
       "      <th>66</th>\n",
       "      <td>0.50000</td>\n",
       "      <td>0.50000</td>\n",
       "      <td>NaN</td>\n",
       "      <td>0.50000</td>\n",
       "      <td>0.50000</td>\n",
       "    </tr>\n",
       "  </tbody>\n",
       "</table>\n",
       "<p>67 rows × 5 columns</p>\n",
       "</div>"
      ],
      "text/plain": [
       "      2018    2019    2021    2022    2023\n",
       "0  0.50000 0.50000 0.50000 0.50000 0.50000\n",
       "1  0.50000 0.50000 0.50000 0.50000 0.50000\n",
       "2  0.50000 0.50000 0.50000 0.50000 0.50000\n",
       "3  0.50000 0.50000 0.50000 0.50000 0.50000\n",
       "4  0.50000 0.50000 0.50000 0.50000 0.50000\n",
       "..     ...     ...     ...     ...     ...\n",
       "62 0.50000 0.50000 0.50000 0.50000 0.50000\n",
       "63 0.50000 0.50000 0.50000 0.50000 0.50000\n",
       "64 0.50000 0.50000 0.50000 0.50000 0.50000\n",
       "65 0.50000 0.50000 0.50000 0.50000 0.50000\n",
       "66 0.50000 0.50000     NaN 0.50000 0.50000\n",
       "\n",
       "[67 rows x 5 columns]"
      ]
     },
     "execution_count": 75,
     "metadata": {},
     "output_type": "execute_result"
    }
   ],
   "source": [
    "svc_results = pd.concat([pd.DataFrame(svc_pred_prob_2018[:,1]), pd.DataFrame(svc_pred_prob_2019[:,1]), \n",
    "                        pd.DataFrame(svc_pred_prob_2021[:,1]), pd.DataFrame(svc_pred_prob_2022[:,1]), \n",
    "                        pd.DataFrame(svc_pred_prob_2023[:,1])], axis=1)\n",
    "\n",
    "svc_results = svc_results.set_axis(['2018', '2019', '2021', '2022', '2023'], axis=1, inplace=False)\n",
    "\n",
    "svc_results"
   ]
  },
  {
   "attachments": {},
   "cell_type": "markdown",
   "metadata": {},
   "source": [
    "Generating the final `svc_matrix` as done with the previous models"
   ]
  },
  {
   "cell_type": "code",
   "execution_count": 76,
   "metadata": {},
   "outputs": [
    {
     "data": {
      "text/html": [
       "<div>\n",
       "<style scoped>\n",
       "    .dataframe tbody tr th:only-of-type {\n",
       "        vertical-align: middle;\n",
       "    }\n",
       "\n",
       "    .dataframe tbody tr th {\n",
       "        vertical-align: top;\n",
       "    }\n",
       "\n",
       "    .dataframe thead th {\n",
       "        text-align: right;\n",
       "    }\n",
       "</style>\n",
       "<table border=\"1\" class=\"dataframe\">\n",
       "  <thead>\n",
       "    <tr style=\"text-align: right;\">\n",
       "      <th></th>\n",
       "      <th>2018</th>\n",
       "      <th>2019</th>\n",
       "      <th>2021</th>\n",
       "      <th>2022</th>\n",
       "      <th>2023</th>\n",
       "    </tr>\n",
       "  </thead>\n",
       "  <tbody>\n",
       "    <tr>\n",
       "      <th>svc_confidence</th>\n",
       "      <td>0.00000</td>\n",
       "      <td>0.00000</td>\n",
       "      <td>0.00000</td>\n",
       "      <td>0.00000</td>\n",
       "      <td>0.00000</td>\n",
       "    </tr>\n",
       "    <tr>\n",
       "      <th>svc_accuracy</th>\n",
       "      <td>0.46269</td>\n",
       "      <td>0.43284</td>\n",
       "      <td>0.48485</td>\n",
       "      <td>0.47761</td>\n",
       "      <td>0.47761</td>\n",
       "    </tr>\n",
       "  </tbody>\n",
       "</table>\n",
       "</div>"
      ],
      "text/plain": [
       "                  2018    2019    2021    2022    2023\n",
       "svc_confidence 0.00000 0.00000 0.00000 0.00000 0.00000\n",
       "svc_accuracy   0.46269 0.43284 0.48485 0.47761 0.47761"
      ]
     },
     "execution_count": 76,
     "metadata": {},
     "output_type": "execute_result"
    }
   ],
   "source": [
    "svc_results = svc_results.apply(lambda x: abs(x-.5))\n",
    "svc_confidence = svc_results.sum().to_frame().T\n",
    "svc_confidence.index = ['svc_confidence']\n",
    "\n",
    "svc_matrix = pd.concat([svc_confidence,svc_accuracy],axis=0)\n",
    "svc_matrix"
   ]
  },
  {
   "attachments": {},
   "cell_type": "markdown",
   "metadata": {},
   "source": [
    "We can concatenate all these model matricies together to get a `final_matrix` with all of our results."
   ]
  },
  {
   "cell_type": "code",
   "execution_count": 77,
   "metadata": {},
   "outputs": [
    {
     "data": {
      "text/html": [
       "<div>\n",
       "<style scoped>\n",
       "    .dataframe tbody tr th:only-of-type {\n",
       "        vertical-align: middle;\n",
       "    }\n",
       "\n",
       "    .dataframe tbody tr th {\n",
       "        vertical-align: top;\n",
       "    }\n",
       "\n",
       "    .dataframe thead th {\n",
       "        text-align: right;\n",
       "    }\n",
       "</style>\n",
       "<table border=\"1\" class=\"dataframe\">\n",
       "  <thead>\n",
       "    <tr style=\"text-align: right;\">\n",
       "      <th></th>\n",
       "      <th>2018</th>\n",
       "      <th>2019</th>\n",
       "      <th>2021</th>\n",
       "      <th>2022</th>\n",
       "      <th>2023</th>\n",
       "    </tr>\n",
       "  </thead>\n",
       "  <tbody>\n",
       "    <tr>\n",
       "      <th>lr_confidence</th>\n",
       "      <td>29.15519</td>\n",
       "      <td>29.15519</td>\n",
       "      <td>29.11121</td>\n",
       "      <td>28.24326</td>\n",
       "      <td>28.24326</td>\n",
       "    </tr>\n",
       "    <tr>\n",
       "      <th>lr_accuracy</th>\n",
       "      <td>0.52239</td>\n",
       "      <td>0.49254</td>\n",
       "      <td>0.50000</td>\n",
       "      <td>0.49254</td>\n",
       "      <td>0.49254</td>\n",
       "    </tr>\n",
       "    <tr>\n",
       "      <th>gnb_confidence</th>\n",
       "      <td>33.50000</td>\n",
       "      <td>33.50000</td>\n",
       "      <td>33.00000</td>\n",
       "      <td>33.50000</td>\n",
       "      <td>33.50000</td>\n",
       "    </tr>\n",
       "    <tr>\n",
       "      <th>gnb_accuracy</th>\n",
       "      <td>0.46269</td>\n",
       "      <td>0.49254</td>\n",
       "      <td>0.53030</td>\n",
       "      <td>0.46269</td>\n",
       "      <td>0.46269</td>\n",
       "    </tr>\n",
       "    <tr>\n",
       "      <th>rf_confidence</th>\n",
       "      <td>2.07375</td>\n",
       "      <td>2.07375</td>\n",
       "      <td>2.13100</td>\n",
       "      <td>2.09297</td>\n",
       "      <td>2.09297</td>\n",
       "    </tr>\n",
       "    <tr>\n",
       "      <th>rf_accuracy</th>\n",
       "      <td>0.46269</td>\n",
       "      <td>0.43284</td>\n",
       "      <td>0.48485</td>\n",
       "      <td>0.47761</td>\n",
       "      <td>0.47761</td>\n",
       "    </tr>\n",
       "    <tr>\n",
       "      <th>svc_confidence</th>\n",
       "      <td>0.00000</td>\n",
       "      <td>0.00000</td>\n",
       "      <td>0.00000</td>\n",
       "      <td>0.00000</td>\n",
       "      <td>0.00000</td>\n",
       "    </tr>\n",
       "    <tr>\n",
       "      <th>svc_accuracy</th>\n",
       "      <td>0.46269</td>\n",
       "      <td>0.43284</td>\n",
       "      <td>0.48485</td>\n",
       "      <td>0.47761</td>\n",
       "      <td>0.47761</td>\n",
       "    </tr>\n",
       "  </tbody>\n",
       "</table>\n",
       "</div>"
      ],
      "text/plain": [
       "                   2018     2019     2021     2022     2023\n",
       "lr_confidence  29.15519 29.15519 29.11121 28.24326 28.24326\n",
       "lr_accuracy     0.52239  0.49254  0.50000  0.49254  0.49254\n",
       "gnb_confidence 33.50000 33.50000 33.00000 33.50000 33.50000\n",
       "gnb_accuracy    0.46269  0.49254  0.53030  0.46269  0.46269\n",
       "rf_confidence   2.07375  2.07375  2.13100  2.09297  2.09297\n",
       "rf_accuracy     0.46269  0.43284  0.48485  0.47761  0.47761\n",
       "svc_confidence  0.00000  0.00000  0.00000  0.00000  0.00000\n",
       "svc_accuracy    0.46269  0.43284  0.48485  0.47761  0.47761"
      ]
     },
     "execution_count": 77,
     "metadata": {},
     "output_type": "execute_result"
    }
   ],
   "source": [
    "final_matrix = pd.concat([lr_matrix,gnb_matrix,rf_matrix,svc_matrix], axis=0)\n",
    "final_matrix"
   ]
  },
  {
   "attachments": {},
   "cell_type": "markdown",
   "metadata": {},
   "source": [
    "### Final Visualizations"
   ]
  },
  {
   "attachments": {},
   "cell_type": "markdown",
   "metadata": {},
   "source": [
    "We decided that these graphs worked better when accuracy rating and cumulative confidence were broken up into separate dataframes, so we do that here."
   ]
  },
  {
   "cell_type": "code",
   "execution_count": 123,
   "metadata": {},
   "outputs": [
    {
     "data": {
      "text/html": [
       "<div>\n",
       "<style scoped>\n",
       "    .dataframe tbody tr th:only-of-type {\n",
       "        vertical-align: middle;\n",
       "    }\n",
       "\n",
       "    .dataframe tbody tr th {\n",
       "        vertical-align: top;\n",
       "    }\n",
       "\n",
       "    .dataframe thead th {\n",
       "        text-align: right;\n",
       "    }\n",
       "</style>\n",
       "<table border=\"1\" class=\"dataframe\">\n",
       "  <thead>\n",
       "    <tr style=\"text-align: right;\">\n",
       "      <th></th>\n",
       "      <th>2018</th>\n",
       "      <th>2019</th>\n",
       "      <th>2021</th>\n",
       "      <th>2022</th>\n",
       "      <th>2023</th>\n",
       "    </tr>\n",
       "  </thead>\n",
       "  <tbody>\n",
       "    <tr>\n",
       "      <th>LR</th>\n",
       "      <td>0.52239</td>\n",
       "      <td>0.49254</td>\n",
       "      <td>0.50000</td>\n",
       "      <td>0.49254</td>\n",
       "      <td>0.49254</td>\n",
       "    </tr>\n",
       "    <tr>\n",
       "      <th>GNB</th>\n",
       "      <td>0.46269</td>\n",
       "      <td>0.49254</td>\n",
       "      <td>0.53030</td>\n",
       "      <td>0.46269</td>\n",
       "      <td>0.46269</td>\n",
       "    </tr>\n",
       "    <tr>\n",
       "      <th>RF</th>\n",
       "      <td>0.46269</td>\n",
       "      <td>0.43284</td>\n",
       "      <td>0.48485</td>\n",
       "      <td>0.47761</td>\n",
       "      <td>0.47761</td>\n",
       "    </tr>\n",
       "    <tr>\n",
       "      <th>SVC</th>\n",
       "      <td>0.46269</td>\n",
       "      <td>0.43284</td>\n",
       "      <td>0.48485</td>\n",
       "      <td>0.47761</td>\n",
       "      <td>0.47761</td>\n",
       "    </tr>\n",
       "  </tbody>\n",
       "</table>\n",
       "</div>"
      ],
      "text/plain": [
       "       2018    2019    2021    2022    2023\n",
       "LR  0.52239 0.49254 0.50000 0.49254 0.49254\n",
       "GNB 0.46269 0.49254 0.53030 0.46269 0.46269\n",
       "RF  0.46269 0.43284 0.48485 0.47761 0.47761\n",
       "SVC 0.46269 0.43284 0.48485 0.47761 0.47761"
      ]
     },
     "execution_count": 123,
     "metadata": {},
     "output_type": "execute_result"
    }
   ],
   "source": [
    "accuracy_matrix = pd.concat([lr_accuracy,gnb_accuracy,rf_accuracy,svc_accuracy], axis=0)\n",
    "new_index = {'lr_accuracy': 'LR', 'gnb_accuracy': 'GNB', 'rf_accuracy': 'RF', 'svc_accuracy':'SVC'}\n",
    "accuracy_matrix = accuracy_matrix.rename(index=new_index)\n",
    "accuracy_matrix"
   ]
  },
  {
   "cell_type": "code",
   "execution_count": 125,
   "metadata": {},
   "outputs": [
    {
     "data": {
      "text/html": [
       "<div>\n",
       "<style scoped>\n",
       "    .dataframe tbody tr th:only-of-type {\n",
       "        vertical-align: middle;\n",
       "    }\n",
       "\n",
       "    .dataframe tbody tr th {\n",
       "        vertical-align: top;\n",
       "    }\n",
       "\n",
       "    .dataframe thead th {\n",
       "        text-align: right;\n",
       "    }\n",
       "</style>\n",
       "<table border=\"1\" class=\"dataframe\">\n",
       "  <thead>\n",
       "    <tr style=\"text-align: right;\">\n",
       "      <th></th>\n",
       "      <th>2018</th>\n",
       "      <th>2019</th>\n",
       "      <th>2021</th>\n",
       "      <th>2022</th>\n",
       "      <th>2023</th>\n",
       "    </tr>\n",
       "  </thead>\n",
       "  <tbody>\n",
       "    <tr>\n",
       "      <th>LR</th>\n",
       "      <td>29.15519</td>\n",
       "      <td>29.15519</td>\n",
       "      <td>29.11121</td>\n",
       "      <td>28.24326</td>\n",
       "      <td>28.24326</td>\n",
       "    </tr>\n",
       "    <tr>\n",
       "      <th>GNB</th>\n",
       "      <td>33.50000</td>\n",
       "      <td>33.50000</td>\n",
       "      <td>33.00000</td>\n",
       "      <td>33.50000</td>\n",
       "      <td>33.50000</td>\n",
       "    </tr>\n",
       "    <tr>\n",
       "      <th>RF</th>\n",
       "      <td>2.07375</td>\n",
       "      <td>2.07375</td>\n",
       "      <td>2.13100</td>\n",
       "      <td>2.09297</td>\n",
       "      <td>2.09297</td>\n",
       "    </tr>\n",
       "    <tr>\n",
       "      <th>SVC</th>\n",
       "      <td>0.00000</td>\n",
       "      <td>0.00000</td>\n",
       "      <td>0.00000</td>\n",
       "      <td>0.00000</td>\n",
       "      <td>0.00000</td>\n",
       "    </tr>\n",
       "  </tbody>\n",
       "</table>\n",
       "</div>"
      ],
      "text/plain": [
       "        2018     2019     2021     2022     2023\n",
       "LR  29.15519 29.15519 29.11121 28.24326 28.24326\n",
       "GNB 33.50000 33.50000 33.00000 33.50000 33.50000\n",
       "RF   2.07375  2.07375  2.13100  2.09297  2.09297\n",
       "SVC  0.00000  0.00000  0.00000  0.00000  0.00000"
      ]
     },
     "execution_count": 125,
     "metadata": {},
     "output_type": "execute_result"
    }
   ],
   "source": [
    "confidence_matrix = pd.concat([lr_confidence,gnb_confidence,rf_confidence,svc_confidence], axis=0)\n",
    "new_index = {'lr_confidence': 'LR', 'gnb_confidence': 'GNB', 'rf_confidence': 'RF', 'svc_confidence':'SVC'}\n",
    "confidence_matrix = confidence_matrix.rename(index=new_index)\n",
    "confidence_matrix"
   ]
  },
  {
   "attachments": {},
   "cell_type": "markdown",
   "metadata": {},
   "source": [
    "Now with our separate dataframes, we generate plots to compare how each of our models did across years."
   ]
  },
  {
   "cell_type": "code",
   "execution_count": 126,
   "metadata": {},
   "outputs": [
    {
     "data": {
      "text/plain": [
       "<Figure size 3000x1500 with 0 Axes>"
      ]
     },
     "metadata": {},
     "output_type": "display_data"
    },
    {
     "data": {
      "image/png": "[encoded data removed]",
      "text/plain": [
       "<Figure size 640x480 with 1 Axes>"
      ]
     },
     "metadata": {},
     "output_type": "display_data"
    }
   ],
   "source": [
    "# Generate plot to compare accuracy ratings across models\n",
    "plt.figure(figsize=(30,15))\n",
    "\n",
    "# Generate a bar plot with one bar per model\n",
    "accuracy_matrix.plot.bar(rot=0,color=['#0492c2', '#74b72e', '#fa8128', '#af69ee','#fcc201'])\n",
    "\n",
    "# Set the x-label and y-label\n",
    "plt.xlabel('Model Type')\n",
    "plt.ylabel('Accuracy Rating')\n",
    "plt.title('Comparing Accuracy Ratings Across Models')\n",
    "plt.legend([2018,2019,2021,2022,2023],bbox_to_anchor=(1.1,1.05))\n",
    "\n",
    "# Display the graph\n",
    "plt.tight_layout()\n",
    "plt.show()"
   ]
  },
  {
   "cell_type": "code",
   "execution_count": 135,
   "metadata": {},
   "outputs": [
    {
     "data": {
      "text/plain": [
       "<Figure size 3000x1500 with 0 Axes>"
      ]
     },
     "metadata": {},
     "output_type": "display_data"
    },
    {
     "data": {
      "image/png": "[encoded data removed]",
      "text/plain": [
       "<Figure size 640x480 with 1 Axes>"
      ]
     },
     "metadata": {},
     "output_type": "display_data"
    }
   ],
   "source": [
    "# Generate plot to compare cumulative confidence ratings across models\n",
    "plt.figure(figsize=(30,15))\n",
    "\n",
    "# Generate a bar plot with one bar per model\n",
    "confidence_matrix.plot.bar(rot=0,color=['#0492c2', '#74b72e', '#fa8128', '#af69ee','#fcc201'])\n",
    "\n",
    "# Set the x-label and y-label\n",
    "plt.xlabel('Model Type')\n",
    "plt.ylabel('Confidence Rating')\n",
    "plt.title('Comparing Confidence Ratings Across Models')\n",
    "plt.legend([2018,2019,2021,2022,2023],bbox_to_anchor=(1.3,1.05))\n",
    "\n",
    "# Display the graph\n",
    "plt.tight_layout()\n",
    "plt.show()"
   ]
  },
  {
   "attachments": {},
   "cell_type": "markdown",
   "metadata": {},
   "source": [
    "### Conclusions\n",
    "Although we were not able to find a model that was really successful at predicting game outcomes on a yearly basis, we were able to see that one performed slighly better than the others. Logistic Regression did a marginally better job at predicting tournament outcomes in most years (although GNB did very well at predicting the 2021 tournament relative to the other models). Our outcomes in terms of model performance and hyperparameters in this question are slightly different from those in question 1, but that is most likely because this question takes less data into account (ending at 2017 instead of 2022). \n",
    "\n",
    "From our most effective model (LR), we are able to see a slight decrease in overall cumulative confidence ratings across years. This does provide an answer to our question (that the predictions have gotten less certain over the past five years), although the scale is not dramatic at this point. \n",
    "\n",
    "#### Future Work\n",
    "If exploring this question further, we would attempt to make the yearly dataframes cumulative across years instead of cutting off the data right at 2017 and using that dataframe for all subsequent yeras. Making that change would most likely have helped with our accuracy.\n",
    "\n",
    "We would also go with a model other than SVC, which was computationally expensive to hypertune the parameters and did not end up giving us meaningful probability predictions."
   ]
  },
  {
   "attachments": {},
   "cell_type": "markdown",
   "metadata": {},
   "source": [
    "### References\n",
    "\n",
    "* https://towardsdatascience.com/a-beginners-guide-to-logistic-regression-in-python-470bdc57a33\n",
    "\n",
    "* https://stackoverflow.com/questions/48947194/add-randomforestclassifier-predict-proba-results-to-original-dataframe\n",
    "\n",
    "* https://medium.com/codex/do-i-need-to-tune-logistic-regression-hyperparameters-1cb2b81fca69\n",
    "\n",
    "* https://towardsdatascience.com/tuning-the-hyperparameters-of-your-machine-learning-model-using-gridsearchcv-7fc2bb76ff27\n",
    "\n",
    "* https://sparkbyexamples.com/pandas/pandas-remove-duplicate-columns-from-dataframe/\n",
    "\n",
    "* https://www.kaggle.com/code/juanmah/tactic-03-hyperparameter-optimization-gnb\n",
    "\n",
    "* Lab 6 Solution\n",
    "\n",
    "* Lab 9 Solution\n",
    "\n",
    "* https://scikit-learn.org/stable/modules/svm.html\n",
    "\n",
    "* https://medium.com/grabngoinfo/support-vector-machine-svm-hyperparameter-tuning-in-python-a65586289bcb"
   ]
  }
 ],
 "metadata": {
  "kernelspec": {
   "display_name": "mlfp",
   "language": "python",
   "name": "python3"
  },
  "language_info": {
   "codemirror_mode": {
    "name": "ipython",
    "version": 3
   },
   "file_extension": ".py",
   "mimetype": "text/x-python",
   "name": "python",
   "nbconvert_exporter": "python",
   "pygments_lexer": "ipython3",
   "version": "3.9.16"
  },
  "orig_nbformat": 4
 },
 "nbformat": 4,
 "nbformat_minor": 2
}
